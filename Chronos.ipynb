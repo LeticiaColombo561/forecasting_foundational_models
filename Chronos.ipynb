{
 "cells": [
  {
   "cell_type": "markdown",
   "metadata": {
    "application/vnd.databricks.v1+cell": {
     "cellMetadata": {
      "byteLimit": 2048000,
      "rowLimit": 10000
     },
     "inputWidgets": {},
     "nuid": "67c5a07a-99ca-4eda-afbc-bf8eda35f493",
     "showTitle": false,
     "title": ""
    }
   },
   "source": [
    "## Chronos\n",
    "El modelo Chronos se diferencia al entrenar desde cero en una amplia colección de series temporales, empleando una tokenización que convierte valores continuos en una secuencia de tokens discretos. A diferencia de otros métodos que necesitan ajustes dentro del dominio, Chronos utiliza una distribución categórica para modelar observaciones, lo que le permite realizar regresiones a través de la clasificación sin características específicas para series temporales. Este enfoque minimalista no solo mejora la capacidad de predicción en escenarios de zero-shot, donde el modelo predice sin haber visto previamente los datos, sino que también sugiere un potencial para tareas adicionales como la imputación de datos, la clasificación y la detección de anomalías en series temporales. \n",
    "\n",
    "Chronos utiliza una función de pérdida basada en categorical cross entropy, similar a los modelos de lenguaje tradicionales, pero aplicada a la predicción de series temporales tokenizadas. La pérdida mide la diferencia entre la distribución de etiquetas cuantizadas reales y la distribución predicha por el modelo. Un punto clave es que la función de pérdida no es consciente de las distancias entre bins adyacentes, por lo que el modelo debe aprender a asociar bins cercanos basándose en la distribución de los índices de bins en los datos de entrenamiento. \n",
    "\n",
    "Chronos es un modelo probabilístico que genera múltiples realizaciones del futuro mediante un muestreo autoregresivo de la distribución predicha. Las trayectorias de muestra se presentan en forma de IDs de tokens que luego deben ser mapeados de nuevo a valores reales y desescalados para obtener la previsión real. La función de desescalado invierte la transformación aplicada durante el escalado inicial, devolviendo los valores a su escala original, facilitando así la obtención de predicciones precisas a partir de los tokens generados por el modelo. \n",
    "\n",
    "##### Análisis de Hiperparámetros \n",
    "El estudio evaluó varios aspectos para mejorar el rendimiento de los modelos de pronóstico de series temporales, como el tamaño del modelo, la inicialización, el uso de aumentaciones TSMix, la proporción de datos sintéticos, los pasos de entrenamiento, la longitud del contexto y el tamaño del vocabulario. Los resultados mostraron que aumentar el tamaño del modelo mejora el rendimiento, pero el uso de pesos preentrenados de modelos de lenguaje no fue efectivo, siendo la inicialización aleatoria superior en este caso. Las aumentaciones TSMix y pequeñas cantidades de datos sintéticos mejoraron el rendimiento en escenarios cero-shot, pero usar demasiados datos sintéticos afectó negativamente debido a la falta de representatividad de los datos reales. Más pasos de entrenamiento y una mayor longitud de contexto mejoraron el rendimiento, especialmente en datos de alta frecuencia. El tamaño del vocabulario también influyó en algunas métricas, lo que resalta la importancia de seleccionar las métricas adecuadas para la evaluación de modelos.d"
   ]
  },
  {
   "cell_type": "code",
   "execution_count": 0,
   "metadata": {
    "application/vnd.databricks.v1+cell": {
     "cellMetadata": {
      "byteLimit": 2048000,
      "rowLimit": 10000
     },
     "inputWidgets": {},
     "nuid": "d8247192-9c31-404c-8ce1-d389faf88405",
     "showTitle": false,
     "title": ""
    }
   },
   "outputs": [],
   "source": [
    "# !pip install git+https://github.com/amazon-science/chronos-forecasting.git"
   ]
  },
  {
   "cell_type": "code",
   "execution_count": 0,
   "metadata": {
    "application/vnd.databricks.v1+cell": {
     "cellMetadata": {
      "byteLimit": 2048000,
      "rowLimit": 10000
     },
     "inputWidgets": {},
     "nuid": "dc6c899f-18d5-444e-ae85-b85a22a6eb59",
     "showTitle": false,
     "title": ""
    }
   },
   "outputs": [
    {
     "output_type": "stream",
     "name": "stdout",
     "output_type": "stream",
     "text": [
      "\u001B[43mNote: you may need to restart the kernel using %restart_python or dbutils.library.restartPython() to use updated packages.\u001B[0m\nCollecting git+https://github.com/amazon-science/chronos-forecasting.git\n  Cloning https://github.com/amazon-science/chronos-forecasting.git to /tmp/pip-req-build-p3ahq26t\n  Running command git clone --filter=blob:none --quiet https://github.com/amazon-science/chronos-forecasting.git /tmp/pip-req-build-p3ahq26t\n  Resolved https://github.com/amazon-science/chronos-forecasting.git to commit ac6ee36acee1e47446cd66f72f540c87f1f1fbe4\n  Installing build dependencies: started\n  Installing build dependencies: finished with status 'done'\n  Getting requirements to build wheel: started\n  Getting requirements to build wheel: finished with status 'done'\n  Preparing metadata (pyproject.toml): started\n  Preparing metadata (pyproject.toml): finished with status 'done'\nRequirement already satisfied: torch~=2.0 in /databricks/python3/lib/python3.11/site-packages (from chronos==1.2.1) (2.3.0+cpu)\nRequirement already satisfied: transformers~=4.30 in /databricks/python3/lib/python3.11/site-packages (from chronos==1.2.1) (4.40.2)\nRequirement already satisfied: accelerate in /databricks/python3/lib/python3.11/site-packages (from chronos==1.2.1) (0.30.1)\nRequirement already satisfied: filelock in /databricks/python3/lib/python3.11/site-packages (from torch~=2.0->chronos==1.2.1) (3.13.4)\nRequirement already satisfied: typing-extensions>=4.8.0 in /databricks/python3/lib/python3.11/site-packages (from torch~=2.0->chronos==1.2.1) (4.10.0)\nRequirement already satisfied: sympy in /databricks/python3/lib/python3.11/site-packages (from torch~=2.0->chronos==1.2.1) (1.11.1)\nRequirement already satisfied: networkx in /databricks/python3/lib/python3.11/site-packages (from torch~=2.0->chronos==1.2.1) (3.1)\nRequirement already satisfied: jinja2 in /databricks/python3/lib/python3.11/site-packages (from torch~=2.0->chronos==1.2.1) (3.1.2)\nRequirement already satisfied: fsspec in /databricks/python3/lib/python3.11/site-packages (from torch~=2.0->chronos==1.2.1) (2023.5.0)\nRequirement already satisfied: huggingface-hub<1.0,>=0.19.3 in /databricks/python3/lib/python3.11/site-packages (from transformers~=4.30->chronos==1.2.1) (0.21.2)\nRequirement already satisfied: numpy>=1.17 in /databricks/python3/lib/python3.11/site-packages (from transformers~=4.30->chronos==1.2.1) (1.23.5)\nRequirement already satisfied: packaging>=20.0 in /databricks/python3/lib/python3.11/site-packages (from transformers~=4.30->chronos==1.2.1) (23.2)\nRequirement already satisfied: pyyaml>=5.1 in /databricks/python3/lib/python3.11/site-packages (from transformers~=4.30->chronos==1.2.1) (6.0)\nRequirement already satisfied: regex!=2019.12.17 in /databricks/python3/lib/python3.11/site-packages (from transformers~=4.30->chronos==1.2.1) (2022.7.9)\nRequirement already satisfied: requests in /databricks/python3/lib/python3.11/site-packages (from transformers~=4.30->chronos==1.2.1) (2.31.0)\nRequirement already satisfied: tokenizers<0.20,>=0.19 in /databricks/python3/lib/python3.11/site-packages (from transformers~=4.30->chronos==1.2.1) (0.19.0)\nRequirement already satisfied: safetensors>=0.4.1 in /databricks/python3/lib/python3.11/site-packages (from transformers~=4.30->chronos==1.2.1) (0.4.2)\nRequirement already satisfied: tqdm>=4.27 in /databricks/python3/lib/python3.11/site-packages (from transformers~=4.30->chronos==1.2.1) (4.65.0)\nRequirement already satisfied: psutil in /databricks/python3/lib/python3.11/site-packages (from accelerate->chronos==1.2.1) (5.9.0)\nRequirement already satisfied: MarkupSafe>=2.0 in /databricks/python3/lib/python3.11/site-packages (from jinja2->torch~=2.0->chronos==1.2.1) (2.1.1)\nRequirement already satisfied: charset-normalizer<4,>=2 in /databricks/python3/lib/python3.11/site-packages (from requests->transformers~=4.30->chronos==1.2.1) (2.0.4)\nRequirement already satisfied: idna<4,>=2.5 in /databricks/python3/lib/python3.11/site-packages (from requests->transformers~=4.30->chronos==1.2.1) (3.4)\nRequirement already satisfied: urllib3<3,>=1.21.1 in /databricks/python3/lib/python3.11/site-packages (from requests->transformers~=4.30->chronos==1.2.1) (1.26.16)\nRequirement already satisfied: certifi>=2017.4.17 in /databricks/python3/lib/python3.11/site-packages (from requests->transformers~=4.30->chronos==1.2.1) (2023.7.22)\nRequirement already satisfied: mpmath>=0.19 in /databricks/python3/lib/python3.11/site-packages (from sympy->torch~=2.0->chronos==1.2.1) (1.3.0)\n\u001B[43mNote: you may need to restart the kernel using %restart_python or dbutils.library.restartPython() to use updated packages.\u001B[0m\n"
     ]
    }
   ],
   "source": [
    "%pip install git+https://github.com/amazon-science/chronos-forecasting.git\n",
    "dbutils.library.restartPython()"
   ]
  },
  {
   "cell_type": "code",
   "execution_count": 0,
   "metadata": {
    "application/vnd.databricks.v1+cell": {
     "cellMetadata": {
      "byteLimit": 2048000,
      "rowLimit": 10000
     },
     "inputWidgets": {},
     "nuid": "62353710-97e8-4813-95c7-b5965762cb0f",
     "showTitle": false,
     "title": ""
    }
   },
   "outputs": [],
   "source": [
    "import pandas as pd\n",
    "import numpy as np\n",
    "from pyspark.sql import SparkSession\n",
    "from pyspark.sql.types import StringType, DoubleType, StructType, StructField, FloatType\n"
   ]
  },
  {
   "cell_type": "code",
   "execution_count": 0,
   "metadata": {
    "application/vnd.databricks.v1+cell": {
     "cellMetadata": {
      "byteLimit": 2048000,
      "rowLimit": 10000
     },
     "inputWidgets": {},
     "nuid": "1fe1f16f-1539-4130-b563-9b8b3dd3b841",
     "showTitle": false,
     "title": ""
    }
   },
   "outputs": [],
   "source": [
    "from databricks.sdk.runtime import spark"
   ]
  },
  {
   "cell_type": "code",
   "execution_count": 0,
   "metadata": {
    "application/vnd.databricks.v1+cell": {
     "cellMetadata": {
      "byteLimit": 2048000,
      "rowLimit": 10000
     },
     "inputWidgets": {},
     "nuid": "cd82dde1-2b36-4bbe-ac95-294e14aec106",
     "showTitle": false,
     "title": ""
    }
   },
   "outputs": [
    {
     "output_type": "stream",
     "name": "stderr",
     "output_type": "stream",
     "text": [
      "2024-10-07 18:38:34.716475: I external/local_tsl/tsl/cuda/cudart_stub.cc:32] Could not find cuda drivers on your machine, GPU will not be used.\n2024-10-07 18:38:34.722180: I external/local_tsl/tsl/cuda/cudart_stub.cc:32] Could not find cuda drivers on your machine, GPU will not be used.\n2024-10-07 18:38:34.792415: I tensorflow/core/platform/cpu_feature_guard.cc:210] This TensorFlow binary is optimized to use available CPU instructions in performance-critical operations.\nTo enable the following instructions: AVX2 AVX512F FMA, in other operations, rebuild TensorFlow with the appropriate compiler flags.\n2024-10-07 18:38:36.274263: W tensorflow/compiler/tf2tensorrt/utils/py_utils.cc:38] TF-TRT Warning: Could not find TensorRT\n"
     ]
    }
   ],
   "source": [
    "\n",
    "from src.models.train_test_split import create_train_test_df\n",
    "from src.models.chronos_functions import create_get_horizon_timestamps, create_forecast_udf, generate_forecast_with_comparison\n",
    "from src.metrics.models_metrics import calculate_metrics"
   ]
  },
  {
   "cell_type": "code",
   "execution_count": 0,
   "metadata": {
    "application/vnd.databricks.v1+cell": {
     "cellMetadata": {
      "byteLimit": 2048000,
      "rowLimit": 10000
     },
     "inputWidgets": {},
     "nuid": "a29372cc-6881-46ac-ae0d-9957d29e6d42",
     "showTitle": false,
     "title": ""
    }
   },
   "outputs": [
    {
     "output_type": "stream",
     "name": "stdout",
     "output_type": "stream",
     "text": [
      "False\n0\n"
     ]
    }
   ],
   "source": [
    "import torch\n",
    "print(torch.cuda.is_available())\n",
    "print(torch.cuda.device_count())"
   ]
  },
  {
   "cell_type": "markdown",
   "metadata": {
    "application/vnd.databricks.v1+cell": {
     "cellMetadata": {
      "byteLimit": 2048000,
      "rowLimit": 10000
     },
     "inputWidgets": {},
     "nuid": "b55b5106-58da-4335-9b99-f88969e0d604",
     "showTitle": false,
     "title": ""
    }
   },
   "source": [
    "## Load Data\n"
   ]
  },
  {
   "cell_type": "code",
   "execution_count": 0,
   "metadata": {
    "application/vnd.databricks.v1+cell": {
     "cellMetadata": {
      "byteLimit": 2048000,
      "rowLimit": 10000
     },
     "inputWidgets": {},
     "nuid": "5de264ad-a895-4683-9e87-420b2839d5a9",
     "showTitle": false,
     "title": ""
    }
   },
   "outputs": [],
   "source": [
    "# Read the CSV file\n",
    "csv_df = pd.read_csv('dataset/dataset_01.csv')\n",
    "\n",
    "# CSV file has two columns: 'unique_id' for the time series identifier and 'y' for the values\n",
    "# If you have a 'date' column, you can rename it to 'ds' for compatibility\n",
    "csv_df = csv_df.rename(columns={\"TRAN_START_DT\": \"ds\", \"QUANTITY\": \"y\"})\n"
   ]
  },
  {
   "cell_type": "code",
   "execution_count": 0,
   "metadata": {
    "application/vnd.databricks.v1+cell": {
     "cellMetadata": {
      "byteLimit": 2048000,
      "rowLimit": 10000
     },
     "inputWidgets": {},
     "nuid": "55f47ad4-7b39-4b95-90d2-507f8c5a673b",
     "showTitle": false,
     "title": ""
    }
   },
   "outputs": [
    {
     "output_type": "execute_result",
     "data": {
      "text/html": [
       "<div>\n",
       "<style scoped>\n",
       "    .dataframe tbody tr th:only-of-type {\n",
       "        vertical-align: middle;\n",
       "    }\n",
       "\n",
       "    .dataframe tbody tr th {\n",
       "        vertical-align: top;\n",
       "    }\n",
       "\n",
       "    .dataframe thead th {\n",
       "        text-align: right;\n",
       "    }\n",
       "</style>\n",
       "<table border=\"1\" class=\"dataframe\">\n",
       "  <thead>\n",
       "    <tr style=\"text-align: right;\">\n",
       "      <th></th>\n",
       "      <th>ds</th>\n",
       "      <th>y</th>\n",
       "      <th>unique_id</th>\n",
       "    </tr>\n",
       "  </thead>\n",
       "  <tbody>\n",
       "    <tr>\n",
       "      <th>0</th>\n",
       "      <td>2022-01-02</td>\n",
       "      <td>98.0</td>\n",
       "      <td>J519_1556</td>\n",
       "    </tr>\n",
       "    <tr>\n",
       "      <th>1</th>\n",
       "      <td>2022-01-03</td>\n",
       "      <td>86.0</td>\n",
       "      <td>J519_1556</td>\n",
       "    </tr>\n",
       "    <tr>\n",
       "      <th>2</th>\n",
       "      <td>2022-01-04</td>\n",
       "      <td>77.0</td>\n",
       "      <td>J519_1556</td>\n",
       "    </tr>\n",
       "    <tr>\n",
       "      <th>3</th>\n",
       "      <td>2022-01-05</td>\n",
       "      <td>73.0</td>\n",
       "      <td>J519_1556</td>\n",
       "    </tr>\n",
       "    <tr>\n",
       "      <th>4</th>\n",
       "      <td>2022-01-06</td>\n",
       "      <td>67.0</td>\n",
       "      <td>J519_1556</td>\n",
       "    </tr>\n",
       "  </tbody>\n",
       "</table>\n",
       "</div>"
      ],
      "text/plain": [
       "          ds     y  unique_id\n",
       "0 2022-01-02  98.0  J519_1556\n",
       "1 2022-01-03  86.0  J519_1556\n",
       "2 2022-01-04  77.0  J519_1556\n",
       "3 2022-01-05  73.0  J519_1556\n",
       "4 2022-01-06  67.0  J519_1556"
      ]
     },
     "execution_count": 6,
     "metadata": {},
     "output_type": "execute_result"
    }
   ],
   "source": [
    "# Prepare DataFrame\n",
    "csv_df['unique_id'] = csv_df['LOCATION_ID'].astype(str) + '_' + csv_df['ITEM_ID'].astype(str) \n",
    "csv_df['ds'] = pd.to_datetime(csv_df['ds'])\n",
    "csv_df = csv_df.drop(columns=['LOCATION_ID', 'ITEM_ID'])\n",
    "csv_df.head()"
   ]
  },
  {
   "cell_type": "code",
   "execution_count": 0,
   "metadata": {
    "application/vnd.databricks.v1+cell": {
     "cellMetadata": {
      "byteLimit": 2048000,
      "rowLimit": 10000
     },
     "inputWidgets": {},
     "nuid": "b9214db0-cff1-4fc4-bf2a-f3d397a88b45",
     "showTitle": false,
     "title": ""
    }
   },
   "outputs": [
    {
     "output_type": "execute_result",
     "data": {
      "text/plain": [
       "array(['J519_1556', 'J519_113746', 'J519_113752', ..., 'J519_1855213002',\n",
       "       'J519_1858664001', 'J519_1883951002'], dtype=object)"
      ]
     },
     "execution_count": 7,
     "metadata": {},
     "output_type": "execute_result"
    }
   ],
   "source": [
    "csv_df.unique_id.unique()"
   ]
  },
  {
   "cell_type": "code",
   "execution_count": 0,
   "metadata": {
    "application/vnd.databricks.v1+cell": {
     "cellMetadata": {
      "byteLimit": 2048000,
      "rowLimit": 10000
     },
     "inputWidgets": {},
     "nuid": "08978340-8e83-4bf2-aad7-a5ced7c81e2b",
     "showTitle": false,
     "title": ""
    }
   },
   "outputs": [],
   "source": [
    "# csv_df = csv_df.loc[csv_df.unique_id.isin(['J519_1556', 'J519_1858664001', 'J519_113752', 'J519_1883951002'])]\n",
    "csv_df = csv_df.loc[csv_df.unique_id.isin(csv_df.unique_id.unique()[:500])]"
   ]
  },
  {
   "cell_type": "markdown",
   "metadata": {
    "application/vnd.databricks.v1+cell": {
     "cellMetadata": {
      "byteLimit": 2048000,
      "rowLimit": 10000
     },
     "inputWidgets": {},
     "nuid": "aec82079-b875-4c9f-8476-3ad89057b7ad",
     "showTitle": false,
     "title": ""
    }
   },
   "source": [
    "2. Adjust Inference and Forecasting\n",
    "Once the data is loaded and prepared, the rest of the script should remain the same. You can apply the UDFs to generate forecasts based on your data:\n",
    "\n",
    "- get_horizon_timestamps: This function generates a Pandas UDF that creates future timestamps for a given time series. The UDF is responsible for adding the required timestamps based on the frequency (freq) and the number of predictions (prediction_length)\n",
    "\n",
    "- forecast_udf: The forecast_udf is another Pandas UDF that generates the forecast using a pretrained model from Chronos (loaded from amazon/{chronos_model}). It predicts prediction_length future values for each time series, based on the historical data."
   ]
  },
  {
   "cell_type": "markdown",
   "metadata": {
    "application/vnd.databricks.v1+cell": {
     "cellMetadata": {
      "byteLimit": 2048000,
      "rowLimit": 10000
     },
     "inputWidgets": {},
     "nuid": "a64310c2-9b2d-4017-8325-9b44ca110a25",
     "showTitle": false,
     "title": ""
    }
   },
   "source": [
    "## Forecasting Chronos"
   ]
  },
  {
   "cell_type": "code",
   "execution_count": 0,
   "metadata": {
    "application/vnd.databricks.v1+cell": {
     "cellMetadata": {
      "byteLimit": 2048000,
      "rowLimit": 10000
     },
     "inputWidgets": {},
     "nuid": "530e996b-9266-49dc-9b92-a56e1e21be15",
     "showTitle": false,
     "title": ""
    }
   },
   "outputs": [],
   "source": [
    "# chronos_type = \"tiny\"\n",
    "chronos_type = \"small\""
   ]
  },
  {
   "cell_type": "code",
   "execution_count": 0,
   "metadata": {
    "application/vnd.databricks.v1+cell": {
     "cellMetadata": {
      "byteLimit": 2048000,
      "rowLimit": 10000
     },
     "inputWidgets": {},
     "nuid": "be6f8492-b9cf-4be9-9e60-d3b88fd724b9",
     "showTitle": false,
     "title": ""
    }
   },
   "outputs": [],
   "source": [
    "train_df, test_df = create_train_test_df(csv_df, prediction_length=30)\n",
    "# test_df.show()"
   ]
  },
  {
   "cell_type": "code",
   "execution_count": 0,
   "metadata": {
    "application/vnd.databricks.v1+cell": {
     "cellMetadata": {
      "byteLimit": 2048000,
      "rowLimit": 10000
     },
     "inputWidgets": {},
     "nuid": "dafdb4ad-80a0-4d6b-bc44-abbda3dd5668",
     "showTitle": false,
     "title": ""
    }
   },
   "outputs": [],
   "source": [
    "chronos_froecast = generate_forecast_with_comparison(train_df, \n",
    "                                                     chronos_model=f\"chronos-t5-{chronos_type}\", \n",
    "                                                     prediction_length=30, \n",
    "                                                     num_samples=10, \n",
    "                                                     batch_size=30, \n",
    "                                                     freq=\"D\", \n",
    "                                                     device_map='cpu')"
   ]
  },
  {
   "cell_type": "code",
   "execution_count": 0,
   "metadata": {
    "application/vnd.databricks.v1+cell": {
     "cellMetadata": {
      "byteLimit": 2048000,
      "rowLimit": 10000
     },
     "inputWidgets": {},
     "nuid": "84d23328-f07b-4e32-a956-7295b1fe871f",
     "showTitle": false,
     "title": ""
    }
   },
   "outputs": [],
   "source": [
    "# chronos_froecast.show()"
   ]
  },
  {
   "cell_type": "markdown",
   "metadata": {
    "application/vnd.databricks.v1+cell": {
     "cellMetadata": {
      "byteLimit": 2048000,
      "rowLimit": 10000
     },
     "inputWidgets": {},
     "nuid": "1d247ba3-c44a-4ff2-adc3-0491d934f3c5",
     "showTitle": false,
     "title": ""
    }
   },
   "source": [
    "### Metrics"
   ]
  },
  {
   "cell_type": "markdown",
   "metadata": {
    "application/vnd.databricks.v1+cell": {
     "cellMetadata": {
      "byteLimit": 2048000,
      "rowLimit": 10000
     },
     "inputWidgets": {},
     "nuid": "1279dc08-451b-4bb0-973d-7202119a89fa",
     "showTitle": false,
     "title": ""
    }
   },
   "source": [
    "**MAPE (Mean Absolute Percentage Error)**\n",
    "- **Definición**: Mide el error promedio en términos porcentuales entre los valores reales y los valores predichos por un modelo.\n",
    "- **Fórmula**:\n",
    "  $$\n",
    "  \\text{MAPE} = \\frac{1}{n} \\sum_{i=1}^{n} \\left| \\frac{y_i - \\hat{y_i}}{y_i} \\right| \\times 100\n",
    "  $$\n",
    "  Donde:\n",
    "  - yi: Valor real.\n",
    "  - ŷi: Valor predicho.\n",
    "  - n: Número de observaciones.\n",
    "\n",
    "\n",
    "\n",
    "**MASE (Mean Absolute Scaled Error)**\n",
    "\n",
    "- **Definición**: Compara el error absoluto promedio de un modelo de pronóstico con el error de un pronóstico de referencia. Está escalado, lo que permite comparaciones entre diferentes series temporales o modelos.\n",
    "- **Fórmula**:\n",
    "  $$\n",
    "  \\text{MASE} = \\frac{\\frac{1}{n} \\sum_{i=1}^{n} |y_i - \\hat{y_i}|}{\\frac{1}{n-1} \\sum_{i=2}^{n} |y_i - y_{i-1}|}\n",
    "  $$\n",
    "  Donde:\n",
    "  - El denominador es el error promedio de un pronóstico naive que usa la diferencia entre los valores reales y su valor anterior.\n",
    "\n",
    "\n",
    "\n",
    "**R² (Coeficiente de Determinación)**\n",
    "\n",
    "- **Definición**: Mide qué tan bien se ajusta el modelo a los datos reales. Representa la proporción de la varianza en la variable dependiente que es explicada por las variables independientes.\n",
    "- **Fórmula**:\n",
    "  $$\n",
    "  R^2 = 1 - \\frac{\\sum_{i=1}^{n} (y_i - \\hat{y_i})^2}{\\sum_{i=1}^{n} (y_i - \\bar{y})^2}\n",
    "  $$\n",
    "  Donde:\n",
    "  - yi: Valores reales.\n",
    "  - ŷi: Valores predichos.\n",
    "  - ȳ: Promedio de los valores reales.\n",
    "\n",
    "\n"
   ]
  },
  {
   "cell_type": "code",
   "execution_count": 0,
   "metadata": {
    "application/vnd.databricks.v1+cell": {
     "cellMetadata": {
      "byteLimit": 2048000,
      "rowLimit": 10000
     },
     "inputWidgets": {},
     "nuid": "b92dadd5-6ebc-4699-8b35-8a964d7994a5",
     "showTitle": false,
     "title": ""
    }
   },
   "outputs": [],
   "source": [
    "metrics_schema = StructType([\n",
    "    StructField('unique_id', StringType(), True), \n",
    "    StructField('r2', DoubleType(), True), \n",
    "    StructField('mape', DoubleType(), True), \n",
    "    StructField('mase', DoubleType(), True)\n",
    "    ])"
   ]
  },
  {
   "cell_type": "code",
   "execution_count": 0,
   "metadata": {
    "application/vnd.databricks.v1+cell": {
     "cellMetadata": {
      "byteLimit": 2048000,
      "rowLimit": 10000
     },
     "inputWidgets": {},
     "nuid": "e7d845fb-8761-44b7-acd5-e682956f1e35",
     "showTitle": false,
     "title": ""
    }
   },
   "outputs": [],
   "source": [
    "joined_df = chronos_froecast.join(test_df, on=\"unique_id\")\n",
    "\n",
    "# Select only the required columns\n",
    "joined_df = joined_df.select(\"unique_id\", \"forecast\", \"test_y\")\n",
    "# joined_df.show()"
   ]
  },
  {
   "cell_type": "code",
   "execution_count": 0,
   "metadata": {
    "application/vnd.databricks.v1+cell": {
     "cellMetadata": {
      "byteLimit": 2048000,
      "rowLimit": 10000
     },
     "inputWidgets": {},
     "nuid": "7a3894e4-3abe-420a-933e-686f465b0204",
     "showTitle": false,
     "title": ""
    }
   },
   "outputs": [],
   "source": [
    "# Use applyInPandas to calculate R² and MAPE for each unique_id\n",
    "joined_df.cache()\n",
    "metrics_df = joined_df.groupBy(\"unique_id\").applyInPandas(calculate_metrics, metrics_schema)"
   ]
  },
  {
   "cell_type": "code",
   "execution_count": 0,
   "metadata": {
    "application/vnd.databricks.v1+cell": {
     "cellMetadata": {
      "byteLimit": 2048000,
      "rowLimit": 10000
     },
     "inputWidgets": {},
     "nuid": "ae1263c6-dfad-4d35-af08-36e5f7effefd",
     "showTitle": false,
     "title": ""
    }
   },
   "outputs": [],
   "source": [
    "# metrics_df.show()"
   ]
  },
  {
   "cell_type": "code",
   "execution_count": 0,
   "metadata": {
    "application/vnd.databricks.v1+cell": {
     "cellMetadata": {
      "byteLimit": 2048000,
      "rowLimit": 10000
     },
     "inputWidgets": {},
     "nuid": "a46fc36c-eb57-4a4d-891e-6dfa11e1c01f",
     "showTitle": false,
     "title": ""
    }
   },
   "outputs": [],
   "source": [
    "metrics_df.createOrReplaceTempView(\"df_forecast_chronos_metrics_temp\")"
   ]
  },
  {
   "cell_type": "code",
   "execution_count": 0,
   "metadata": {
    "application/vnd.databricks.v1+cell": {
     "cellMetadata": {
      "byteLimit": 2048000,
      "rowLimit": 10000
     },
     "inputWidgets": {},
     "nuid": "6ee10f4a-002f-4f4d-acc9-d7d698f865fa",
     "showTitle": false,
     "title": ""
    }
   },
   "outputs": [
    {
     "output_type": "execute_result",
     "data": {
      "text/plain": [
       "DataFrame[num_affected_rows: bigint, num_inserted_rows: bigint]"
      ]
     },
     "execution_count": 18,
     "metadata": {},
     "output_type": "execute_result"
    }
   ],
   "source": [
    "spark.sql(f\"CREATE OR REPLACE TABLE dev.df_forecastu_chronos_{chronos_type}_metrics AS SELECT * FROM df_forecast_chronos_metrics_temp\")"
   ]
  },
  {
   "cell_type": "code",
   "execution_count": 0,
   "metadata": {
    "application/vnd.databricks.v1+cell": {
     "cellMetadata": {
      "byteLimit": 2048000,
      "implicitDf": true,
      "rowLimit": 10000
     },
     "inputWidgets": {},
     "nuid": "7fdedaef-2763-4a3f-8b33-e77fb5f87b76",
     "showTitle": false,
     "title": ""
    }
   },
   "outputs": [
    {
     "output_type": "display_data",
     "data": {
      "text/html": [
       "<style scoped>\n",
       "  .table-result-container {\n",
       "    max-height: 300px;\n",
       "    overflow: auto;\n",
       "  }\n",
       "  table, th, td {\n",
       "    border: 1px solid black;\n",
       "    border-collapse: collapse;\n",
       "  }\n",
       "  th, td {\n",
       "    padding: 5px;\n",
       "  }\n",
       "  th {\n",
       "    text-align: left;\n",
       "  }\n",
       "</style><div class='table-result-container'><table class='table-result'><thead style='background-color: white'><tr><th>unique_id</th><th>r2</th><th>mape</th><th>mase</th></tr></thead><tbody><tr><td>J519_120660</td><td>-0.34566037735849053</td><td>63.05925925925925</td><td>0.7562745098039216</td></tr><tr><td>J519_1222065</td><td>-0.435063381966037</td><td>40.79365079365079</td><td>0.7279835390946502</td></tr><tr><td>J519_1729699</td><td>-0.6385231825987405</td><td>70.39550264550265</td><td>0.7558510638297873</td></tr><tr><td>J519_1801353</td><td>-0.5918267945022015</td><td>31.605758357452945</td><td>1.138924924924925</td></tr><tr><td>J519_1856076</td><td>-0.17206601466992666</td><td>1.1000000000549739E12</td><td>1.112673611111111</td></tr><tr><td>J519_1885273</td><td>-0.15261958997722092</td><td>5.500000000478612E11</td><td>0.8752252252252252</td></tr><tr><td>J519_1896346</td><td>-0.10746129204484767</td><td>72.36150396444515</td><td>0.8761375661375661</td></tr><tr><td>J519_1899350</td><td>0.16520485559359788</td><td>63.85132154172922</td><td>0.8682941176470589</td></tr><tr><td>J519_269410</td><td>-0.46916292495189227</td><td>48.781746031746025</td><td>0.8738157894736842</td></tr><tr><td>J519_1051189</td><td>0.6096390367516948</td><td>24.876020154254395</td><td>0.6005443698732288</td></tr><tr><td>J519_1622811</td><td>-0.5054182509505702</td><td>35.644912494912504</td><td>0.9099082568807338</td></tr><tr><td>J519_1802175</td><td>-0.22516172206111995</td><td>1.6166666667255261E12</td><td>0.977308868501529</td></tr><tr><td>J519_264982</td><td>-0.4077181497114306</td><td>1.0000000004801445E11</td><td>0.9055102040816326</td></tr><tr><td>J519_266074</td><td>-0.13583753690944889</td><td>19.16067101280971</td><td>0.7648795944233209</td></tr><tr><td>J519_270939</td><td>-0.3127582518100491</td><td>85.28384936747766</td><td>1.2392307692307694</td></tr><tr><td>J519_302470001</td><td>-0.27779285746332305</td><td>42.79677002066554</td><td>1.1714473684210527</td></tr><tr><td>J519_302949</td><td>0.4498903372039289</td><td>17.833829938204097</td><td>0.660492866407263</td></tr><tr><td>J519_1656333</td><td>-0.9192675320306971</td><td>48.032660927130394</td><td>1.4315174506828527</td></tr><tr><td>J519_1777501</td><td>-0.1336967917802474</td><td>3.6666666675350793E11</td><td>1.1005128205128205</td></tr><tr><td>J519_260718</td><td>-1.9484279574756846</td><td>2.7833333333666035E12</td><td>1.9333333333333333</td></tr><tr><td>J519_267686</td><td>-0.6428387161618871</td><td>24.32441619505385</td><td>1.1679006410256407</td></tr><tr><td>J519_298072</td><td>-1.0795562977099236</td><td>1.6666666671994608E11</td><td>1.3694444444444445</td></tr><tr><td>J519_498075002</td><td>-0.7759959486833221</td><td>38.26871091871091</td><td>1.1245801526717558</td></tr><tr><td>J519_693559</td><td>-5.144301546391752</td><td>65.82750443139133</td><td>2.450942895086321</td></tr><tr><td>J519_1086947</td><td>-0.7547363068429465</td><td>5.56666666720107E11</td><td>1.51468671679198</td></tr><tr><td>J519_1558641</td><td>0.35883483909504943</td><td>26.89977753456113</td><td>0.7175257731958762</td></tr><tr><td>J519_1704593</td><td>-0.3932063422153709</td><td>4.0333333341207245E11</td><td>0.9605774278215221</td></tr><tr><td>J519_254991</td><td>-0.33255476804123707</td><td>4.8333333337535706E11</td><td>0.9004032258064517</td></tr><tr><td>J519_263111</td><td>0.13214288527017404</td><td>39.6501781139397</td><td>0.9318353576248314</td></tr><tr><td>J519_266318</td><td>-1.4178452942203599</td><td>55.556369142553365</td><td>1.3825770308123246</td></tr><tr><td>J519_730789</td><td>0.07067587209302295</td><td>8.000000000394861E11</td><td>0.9666666666666667</td></tr><tr><td>J519_1351050</td><td>-0.766817335814943</td><td>55.24007936507937</td><td>1.1166666666666667</td></tr><tr><td>J519_1687566</td><td>-0.046377922575699726</td><td>1.3333333338108333E11</td><td>0.8055555555555555</td></tr><tr><td>J519_1838398</td><td>-1.073792452830188</td><td>6.666666667631421E11</td><td>1.1558571428571427</td></tr><tr><td>J519_1871152</td><td>-0.1390161798240852</td><td>105.55508750508751</td><td>1.1155855855855854</td></tr><tr><td>J519_271656</td><td>0.052561307901907384</td><td>50.97036458852317</td><td>0.8948082595870206</td></tr><tr><td>J519_545397</td><td>-0.5074854180168502</td><td>42.00379250379251</td><td>1.0389408099688473</td></tr><tr><td>J519_563666</td><td>-0.3977392135010347</td><td>85.68581048581049</td><td>0.9641880341880341</td></tr><tr><td>J519_1650314002</td><td>-0.506818918626851</td><td>49.917864325217266</td><td>1.136915422885572</td></tr><tr><td>J519_1651050</td><td>0.40204071786954854</td><td>46.45145271301459</td><td>0.6137094017094017</td></tr><tr><td>J519_1871251002</td><td>-0.19426943699731902</td><td>2.833333333805694E11</td><td>0.6858730158730159</td></tr><tr><td>J519_1884797</td><td>0.3002802913264181</td><td>12.50502977128553</td><td>0.6669187675070026</td></tr><tr><td>J519_389628</td><td>-0.07876980598484518</td><td>58.81840966705527</td><td>0.7887912912912913</td></tr><tr><td>J519_994296</td><td>-1.5725639253628199</td><td>55.94444444444445</td><td>1.010042735042735</td></tr><tr><td>J519_1290078</td><td>-0.19675210511705354</td><td>36.59321683075553</td><td>0.8573124999999998</td></tr><tr><td>J519_1556110</td><td>-0.4594907407407405</td><td>4.500000000428889E11</td><td>1.1007526881720429</td></tr><tr><td>J519_1880372</td><td>0.344604272807967</td><td>3.66666666796645E11</td><td>0.7463565891472869</td></tr><tr><td>J519_260711</td><td>-0.41704388899822886</td><td>1.116666666718488E12</td><td>0.7711610486891386</td></tr><tr><td>J519_302331</td><td>-0.39887760081629</td><td>53.53833451170408</td><td>1.0057760814249364</td></tr><tr><td>J519_498071002</td><td>-0.1677590753955942</td><td>41.10974490130499</td><td>1.019870801033592</td></tr><tr><td>J519_1652116</td><td>-1.543208661417323</td><td>6.033333333763889E11</td><td>0.92075</td></tr><tr><td>J519_1716537</td><td>-1.2830947511929107</td><td>7.666666667590557E11</td><td>1.1902985074626866</td></tr><tr><td>J519_1730650</td><td>-0.27896167788710513</td><td>32.656949531949536</td><td>0.8688759689922481</td></tr><tr><td>J519_1859900</td><td>-3.1512434933487565</td><td>54.09364715079327</td><td>1.7716939890710381</td></tr><tr><td>J519_245681</td><td>-0.8034450897571277</td><td>8.333333342535774E10</td><td>1.5967901234567903</td></tr><tr><td>J519_263311</td><td>-0.1944656696867153</td><td>3.000000000734702E11</td><td>1.132191780821918</td></tr><tr><td>J519_1236881</td><td>-0.37998421586681186</td><td>51.023245055598</td><td>1.006122448979592</td></tr><tr><td>J519_1650346</td><td>-2.2467088922006964</td><td>1.1666666673547198E11</td><td>1.5194989106753816</td></tr><tr><td>J519_1658251</td><td>-0.7970709725873077</td><td>47.076904576904575</td><td>1.2522324159021405</td></tr><tr><td>J519_270343</td><td>-0.7772511848341235</td><td>5.000000005164681E10</td><td>1.0246666666666666</td></tr><tr><td>J519_271640</td><td>-0.1359243697478989</td><td>4.0000000003943256E11</td><td>0.8901388888888889</td></tr><tr><td>J519_507641</td><td>-0.211568123393316</td><td>62.856623695785</td><td>1.4738444444444443</td></tr><tr><td>J519_1446580</td><td>-0.23326003082632196</td><td>27.129320207359154</td><td>0.9934194341943421</td></tr><tr><td>J519_1585989</td><td>-0.7650293255131966</td><td>45.562830687830676</td><td>0.9666666666666668</td></tr><tr><td>J519_263227</td><td>-0.6102233304423246</td><td>44.43003801753802</td><td>0.9916479400749063</td></tr><tr><td>J519_267239</td><td>-0.007242879746835129</td><td>2.3333333342617484E11</td><td>0.9723529411764705</td></tr><tr><td>J519_602271</td><td>-0.2879979035639415</td><td>2.5000000004332803E11</td><td>0.8873134328358209</td></tr><tr><td>J519_603156</td><td>-0.46089385474860345</td><td>4.0000000004881354E11</td><td>0.9028301886792451</td></tr><tr><td>J519_1094065</td><td>-0.022575019672061325</td><td>38.203726562582055</td><td>0.8031144781144781</td></tr><tr><td>J519_1560936</td><td>-0.37489035087719325</td><td>1.5000000007791824E11</td><td>0.8646296296296296</td></tr><tr><td>J519_1630571</td><td>-0.1324526287696821</td><td>2.500000000383311E11</td><td>0.7329234972677596</td></tr><tr><td>J519_266664</td><td>-0.29094284577642227</td><td>2.166666667138885E11</td><td>0.7795698924731183</td></tr><tr><td>J519_267241</td><td>-0.0039195385298034235</td><td>5.000000000398103E11</td><td>0.5829896907216495</td></tr><tr><td>J519_599072</td><td>-0.07797555791710953</td><td>6.666666674473214E10</td><td>0.7982323232323232</td></tr><tr><td>J519_1381090003</td><td>0.11442853282896503</td><td>62.02777777777778</td><td>0.7169444444444444</td></tr><tr><td>J519_1564556</td><td>0.2355861574125181</td><td>54.6389980018104</td><td>0.8846271929824562</td></tr><tr><td>J519_1599630</td><td>-0.48266767143933675</td><td>75.22222222222223</td><td>0.7512048192771084</td></tr><tr><td>J519_255543</td><td>-0.7180531453362256</td><td>96.83323985955565</td><td>1.445261437908497</td></tr><tr><td>J519_271861</td><td>-0.34925828970331607</td><td>36.78505291005291</td><td>0.9335616438356165</td></tr><tr><td>J519_1477044002</td><td>-0.8871520514883349</td><td>48.95761749144103</td><td>0.994099099099099</td></tr><tr><td>J519_1752543</td><td>-0.12502896871378955</td><td>4.333333333834444E11</td><td>0.7930246913580247</td></tr><tr><td>J519_266077</td><td>-0.4708906310242902</td><td>84.70833333333334</td><td>0.9666666666666667</td></tr><tr><td>J519_269339</td><td>-0.35648613551294805</td><td>34.42612913493568</td><td>1.0853985507246378</td></tr><tr><td>J519_294585</td><td>-0.22136681762042</td><td>4.166666667195834E11</td><td>1.2096396396396394</td></tr><tr><td>J519_1716210</td><td>-0.5188369781312128</td><td>36.1468253968254</td><td>0.98981220657277</td></tr><tr><td>J519_1888808</td><td>-1.3832852594448672</td><td>40.6060472480387</td><td>1.5985904761904761</td></tr><tr><td>J519_268975</td><td>-0.13060961362123624</td><td>1.4700000000236528E12</td><td>0.8170945945945948</td></tr><tr><td>J519_458919</td><td>-0.13330381890976306</td><td>1.0666666667279386E12</td><td>0.9617985611510792</td></tr><tr><td>J519_893161003</td><td>-0.15183857186451033</td><td>1.0500000000529833E12</td><td>1.1083101851851849</td></tr><tr><td>J519_1422063</td><td>-0.15643821827027926</td><td>2.7666666673039355E11</td><td>0.8633660130718954</td></tr><tr><td>J519_1726268</td><td>0.061939810983841936</td><td>47.49518610044925</td><td>1.0185365853658535</td></tr><tr><td>J519_713790</td><td>0.6410630591281897</td><td>31.85327514423334</td><td>0.5898522895125554</td></tr><tr><td>J519_911376002</td><td>-0.41654354587869347</td><td>68.00793650793649</td><td>0.8905416666666666</td></tr><tr><td>J519_992063</td><td>-0.30046189376443455</td><td>85.52558922558924</td><td>0.8974129353233831</td></tr><tr><td>J519_1463041</td><td>0.23108168837087073</td><td>25.742921239728744</td><td>0.6492262309961426</td></tr><tr><td>J519_1825557</td><td>-0.21663716814159284</td><td>4.900000000426999E11</td><td>0.7886468646864687</td></tr><tr><td>J519_1859972</td><td>-1.073876803426511</td><td>2.5000000008008948E11</td><td>2.3010552763819097</td></tr><tr><td>J519_1883951003</td><td>-0.30128690386071155</td><td>50.920634920634924</td><td>0.9177215189873418</td></tr><tr><td>J519_297486</td><td>-0.10347411444141708</td><td>8.333333340163095E10</td><td>0.8962146892655368</td></tr><tr><td>J519_1649052</td><td>-0.4579228912518758</td><td>2.3333333338175568E11</td><td>0.9191129032258065</td></tr><tr><td>J519_1662625001</td><td>-0.05524642289348192</td><td>5.333333333674167E11</td><td>0.7595238095238095</td></tr><tr><td>J519_254877</td><td>-0.3584051724137931</td><td>48.32777777777778</td><td>0.8635555555555556</td></tr><tr><td>J519_263375</td><td>-1.0956997906265107</td><td>1.000000000657675E11</td><td>1.186126126126126</td></tr><tr><td>J519_266076</td><td>-1.3392732023039016</td><td>41.038510479527105</td><td>1.1419651741293535</td></tr><tr><td>J519_1468043</td><td>0.007329460269865029</td><td>29.648202483887182</td><td>0.6802322404371584</td></tr><tr><td>J519_1726271</td><td>-0.3918245469522237</td><td>2.6666666673273615E11</td><td>1.1316666666666668</td></tr><tr><td>J519_1825561</td><td>-0.11874023517802801</td><td>5.50000000049869E11</td><td>0.7715596330275228</td></tr><tr><td>J519_267507</td><td>-0.5238718861209961</td><td>60.11790524290526</td><td>0.9430370370370371</td></tr><tr><td>J519_267658</td><td>-0.07300353356890454</td><td>2.833333333798237E11</td><td>0.8730208333333332</td></tr><tr><td>J519_1010569</td><td>-0.26823136172067996</td><td>1.8333333345036703E11</td><td>0.9327705627705627</td></tr><tr><td>J519_1557</td><td>0.60812255796942</td><td>28.33929570720834</td><td>0.5627777777777778</td></tr><tr><td>J519_261284</td><td>-0.33589470480827766</td><td>4.433333334044245E11</td><td>0.838501872659176</td></tr><tr><td>J519_265008</td><td>-0.09867973983108458</td><td>101.60515873015872</td><td>0.9232905982905983</td></tr><tr><td>J519_891090001</td><td>-1.2438930457746484</td><td>48.20913808413809</td><td>1.0283687943262412</td></tr><tr><td>J519_1726640</td><td>-0.26303019410496065</td><td>61.703222703222714</td><td>0.8222943722943722</td></tr><tr><td>J519_1745036</td><td>0.06660066201678738</td><td>1.6666666669984525E11</td><td>0.6530141843971632</td></tr><tr><td>J519_1891489</td><td>-1.0229850746268658</td><td>1.1666666676274602E11</td><td>1.265658914728682</td></tr><tr><td>J519_267106</td><td>-1.5715066496629615</td><td>53.17063492063493</td><td>1.1261666666666668</td></tr><tr><td>J519_273266</td><td>-0.20215311004784686</td><td>1.8333333338172623E11</td><td>0.7250000000000001</td></tr><tr><td>J519_1421183</td><td>-1.0591107871720116</td><td>45.47089947089947</td><td>0.9632142857142856</td></tr><tr><td>J519_1651702</td><td>0.10784804535080628</td><td>72.55260095091515</td><td>0.8501296296296297</td></tr><tr><td>J519_260717</td><td>-0.2667462890291761</td><td>52.41441798941799</td><td>0.8429333333333334</td></tr><tr><td>J519_265831</td><td>-0.8467153284671534</td><td>1.5000000004796423E11</td><td>0.9896825396825397</td></tr><tr><td>J519_693967</td><td>-1.5808294847414657</td><td>6.166666667518859E11</td><td>1.6334018264840184</td></tr><tr><td>J519_1030292</td><td>-0.9068431568431568</td><td>6.166666667434446E11</td><td>1.264102564102564</td></tr><tr><td>J519_1218302</td><td>-0.2929592532382401</td><td>47.871856089095694</td><td>1.045863453815261</td></tr><tr><td>J519_1395546</td><td>-1.9658088756139023</td><td>31.46121940209778</td><td>1.3702835648148146</td></tr><tr><td>J519_1556</td><td>0.7705357773549901</td><td>18.4689514576901</td><td>0.4387179487179486</td></tr><tr><td>J519_1855214</td><td>-0.15309805174065816</td><td>71.71296296296298</td><td>0.9517948717948719</td></tr><tr><td>J519_1740133</td><td>0.08787031861375083</td><td>41.53148896310662</td><td>0.8813213213213213</td></tr><tr><td>J519_260619</td><td>-0.671827554153404</td><td>1.2433333333886453E12</td><td>0.787490465293669</td></tr><tr><td>J519_268966</td><td>-1.7140825664556156</td><td>86.41596155841839</td><td>1.5781460134486072</td></tr><tr><td>J519_498204003</td><td>-0.3667662489070245</td><td>34.07782685723863</td><td>0.9333038348082597</td></tr><tr><td>J519_529305</td><td>-0.5277327935222669</td><td>6.666666672077776E10</td><td>0.857111111111111</td></tr><tr><td>J519_1462111</td><td>-0.5808400832735605</td><td>1.0000000006361847E11</td><td>1.423148148148148</td></tr><tr><td>J519_1586338</td><td>-0.2839459864966243</td><td>4.000000000554722E11</td><td>0.7647679324894515</td></tr><tr><td>J519_266976</td><td>-0.197074588311269</td><td>3.0000000005673785E11</td><td>0.7965013774104682</td></tr><tr><td>J519_302938</td><td>-0.3167548076923079</td><td>6.166666667356853E11</td><td>1.0216666666666667</td></tr><tr><td>J519_476738</td><td>-0.7893663267012208</td><td>58.78186628186627</td><td>1.0248995983935743</td></tr><tr><td>J519_1819829</td><td>-0.18179287305122505</td><td>4.1666666670805566E11</td><td>0.9539473684210527</td></tr><tr><td>J519_264767</td><td>0.40505594723989</td><td>35.302054877261426</td><td>0.8525528455284551</td></tr><tr><td>J519_267767</td><td>-0.33822314049586777</td><td>2.833333334003056E11</td><td>0.8647272727272728</td></tr><tr><td>J519_302689</td><td>-0.2895351499885501</td><td>7.666666667071136E11</td><td>0.9375627240143369</td></tr><tr><td>J519_956054</td><td>-0.47622365441560666</td><td>43.274114774114786</td><td>1.0596153846153846</td></tr><tr><td>J519_1756094</td><td>-0.10715951492537301</td><td>1.250000000040306E12</td><td>1.2156565656565657</td></tr><tr><td>J519_256060</td><td>-0.17128987517337046</td><td>101.2685185185185</td><td>0.9756172839506173</td></tr><tr><td>J519_493510008</td><td>-0.37589054404145084</td><td>6.666666667371901E11</td><td>0.9227272727272727</td></tr><tr><td>J519_995384003</td><td>-0.3113839285714288</td><td>1.833333333843056E11</td><td>0.7799242424242425</td></tr><tr><td>J519_1503096</td><td>-0.0668490340229102</td><td>2.8333333340190875E11</td><td>0.8032863849765258</td></tr><tr><td>J519_1669597</td><td>0.013223295507830746</td><td>1.7400000000482498E12</td><td>1.8501265822784811</td></tr><tr><td>J519_295778</td><td>-0.41677534084173073</td><td>1.5000000013110742E11</td><td>1.095</td></tr><tr><td>J519_501606003</td><td>-0.4533647118687192</td><td>58.41575572416197</td><td>1.2020039682539683</td></tr><tr><td>J519_1127785</td><td>-0.23128759302681234</td><td>36.85617160617161</td><td>0.8633333333333334</td></tr><tr><td>J519_1859272</td><td>0.6089152350681513</td><td>15.232757607523196</td><td>0.6131428571428572</td></tr><tr><td>J519_270808</td><td>-0.3622448979591837</td><td>3.3333333339427783E11</td><td>0.763978494623656</td></tr><tr><td>J519_498032003</td><td>-0.4851497933884301</td><td>62.627287581699356</td><td>0.8452533333333332</td></tr><tr><td>J519_1647815</td><td>-0.6436923523857936</td><td>45.627633015133014</td><td>0.9446612466124662</td></tr><tr><td>J519_1850069</td><td>0.4418541515469181</td><td>1.3666666674270642E11</td><td>0.6687608426270135</td></tr><tr><td>J519_263372</td><td>-0.11306364590708218</td><td>2.0000000011907422E11</td><td>1.0236930455635491</td></tr><tr><td>J519_498055003</td><td>-0.30565449688334856</td><td>2.500000000657123E11</td><td>0.8967871485943776</td></tr><tr><td>J519_1232538</td><td>-0.07134518215447572</td><td>5.476666666705524E12</td><td>1.5104531722054382</td></tr><tr><td>J519_1856283002</td><td>0.02579185520362004</td><td>1.1666666676513255E11</td><td>0.9159562841530055</td></tr><tr><td>J519_260574</td><td>0.7092439633321264</td><td>21.657017029621045</td><td>0.5226210428305401</td></tr><tr><td>J519_297485</td><td>-1.2684836954117076</td><td>50.248853285231</td><td>1.2989583333333334</td></tr><tr><td>J519_1031150</td><td>-0.25321771013691485</td><td>48.03138194729038</td><td>1.0357767722473603</td></tr><tr><td>J519_1554053</td><td>-0.15114006514657974</td><td>1.0000000005888889E11</td><td>0.615399061032864</td></tr><tr><td>J519_265205</td><td>0.009292351679771271</td><td>74.60242450045081</td><td>0.9916666666666667</td></tr><tr><td>J519_266069</td><td>-0.660887096774194</td><td>1.3333333338656744E11</td><td>0.8166169154228856</td></tr><tr><td>J519_1432611</td><td>-0.04230967078189307</td><td>2.833333333918947E11</td><td>0.97421875</td></tr><tr><td>J519_1680636</td><td>0.157021461602308</td><td>139.08890246530135</td><td>0.9301160862354892</td></tr><tr><td>J519_255247</td><td>0.0913106526073666</td><td>45.21882581037268</td><td>0.8411647727272727</td></tr><tr><td>J519_298135</td><td>0.2613725764261896</td><td>4.6666666669057263E11</td><td>0.6802094240837696</td></tr><tr><td>J519_1322213</td><td>-0.2100016753224998</td><td>1.3333333341602147E11</td><td>0.9440104166666667</td></tr><tr><td>J519_1617614</td><td>-0.5460288808664258</td><td>1.66666666794451E11</td><td>0.8363295880149813</td></tr><tr><td>J519_254990</td><td>-0.5040523292916401</td><td>68.82424737571796</td><td>0.9728042328042328</td></tr><tr><td>J519_260699</td><td>0.15173702328109429</td><td>56.10022902724516</td><td>0.7478441127694859</td></tr><tr><td>J519_1555303</td><td>-0.1993153376458503</td><td>6.666666667134122E11</td><td>1.0204675716440421</td></tr><tr><td>J519_1821380</td><td>-0.14991689750692516</td><td>33.63866993454589</td><td>0.980566448801743</td></tr><tr><td>J519_266032</td><td>-0.46638082858101315</td><td>48.83482990384312</td><td>1.1983234714003943</td></tr><tr><td>J519_274729</td><td>-0.29537953795379557</td><td>1.3333333340537698E11</td><td>0.7624413145539907</td></tr><tr><td>J519_1729738</td><td>-0.2606172140430352</td><td>1.5000000007322797E11</td><td>0.9273255813953488</td></tr><tr><td>J519_1843753</td><td>-0.2528130114566287</td><td>6.333333334088953E11</td><td>0.8411858974358974</td></tr><tr><td>J519_297419</td><td>-0.3004951115567811</td><td>4.8333333339528674E11</td><td>0.77521645021645</td></tr><tr><td>J519_355161</td><td>-0.5010522469857508</td><td>1.3666666674616058E11</td><td>1.243019607843137</td></tr><tr><td>J519_1860646</td><td>-0.2021681997371878</td><td>4.7333333336576196E11</td><td>0.7733333333333333</td></tr><tr><td>J519_266979</td><td>-1.0615008880994674</td><td>62.698412698412696</td><td>1.0656626506024096</td></tr><tr><td>J519_295965</td><td>-0.07398294879822753</td><td>1.1500000000318506E12</td><td>0.8259453551912569</td></tr><tr><td>J519_437680</td><td>-1.1725793544945322</td><td>75.346102971103</td><td>1.378217821782178</td></tr><tr><td>J519_1789716</td><td>-0.479965532098233</td><td>2.6666666670591666E11</td><td>0.8615942028985507</td></tr><tr><td>J519_260692</td><td>-0.09553689792311082</td><td>2.3333333338263196E11</td><td>0.831490514905149</td></tr><tr><td>J519_270625</td><td>-0.11122282608695655</td><td>1.6666666673450116E11</td><td>0.7416145833333334</td></tr><tr><td>J519_298086</td><td>-0.13688404681244215</td><td>3.5000000005924756E11</td><td>0.8665962441314554</td></tr><tr><td>J519_1086931</td><td>-0.8967343578485181</td><td>49.4702380952381</td><td>0.971060606060606</td></tr><tr><td>J519_263228</td><td>-0.4603296282100422</td><td>6.666666673890277E10</td><td>0.8592592592592593</td></tr><tr><td>J519_270664</td><td>-0.24176372712146432</td><td>1.500000000712513E11</td><td>0.8323376623376623</td></tr><tr><td>J519_298143</td><td>-1.1922254034357112</td><td>2.833333333857554E11</td><td>1.17106135986733</td></tr><tr><td>J519_1241476</td><td>-0.2260649087221096</td><td>73.71269652642202</td><td>0.8109259259259259</td></tr><tr><td>J519_1336519</td><td>-0.4807891332470897</td><td>31.11673181228583</td><td>1.1549455337690633</td></tr><tr><td>J519_1448100</td><td>-1.2852957741691</td><td>40.058119373676135</td><td>1.620133333333334</td></tr><tr><td>J519_271089</td><td>-0.5758119243819684</td><td>1.000000000430754E11</td><td>1.0252112676056337</td></tr><tr><td>J519_1332050</td><td>-0.45043586550435877</td><td>48.588013838013836</td><td>1.0234057971014494</td></tr><tr><td>J519_1802312</td><td>-0.13678332092330625</td><td>3.833333334165492E11</td><td>1.0012757201646092</td></tr><tr><td>J519_256760</td><td>-0.12588327662915466</td><td>48.602600232011994</td><td>0.8920467836257311</td></tr><tr><td>J519_303938</td><td>-0.08274466357381605</td><td>17.78561775699036</td><td>0.6769158075601375</td></tr><tr><td>J519_1342104</td><td>-0.31547703180212006</td><td>9.833333333693031E11</td><td>1.1727297668038408</td></tr><tr><td>J519_1891510</td><td>-1.4824812967581051</td><td>5.666666667633334E11</td><td>1.5052380952380953</td></tr><tr><td>J519_1892377</td><td>-0.7642379891823099</td><td>2.1666666677346185E11</td><td>1.2162015503875967</td></tr><tr><td>J519_267216</td><td>0.039986059479553804</td><td>53.789682539682524</td><td>0.8753703703703705</td></tr><tr><td>J519_113752</td><td>-0.2885437767274366</td><td>55.38015176830967</td><td>0.755889724310777</td></tr><tr><td>J519_1290076</td><td>-0.8735423985560962</td><td>39.04212155309937</td><td>1.7073895582329317</td></tr><tr><td>J519_1644245</td><td>-0.5191208791208792</td><td>50.831168831168824</td><td>0.8516455696202532</td></tr><tr><td>J519_266092</td><td>-0.40517966590554044</td><td>38.38932363932363</td><td>0.7652777777777778</td></tr><tr><td>J519_1840619</td><td>-0.3796159029649595</td><td>58.74312169312168</td><td>0.7312211221122112</td></tr><tr><td>J519_1850084</td><td>-0.40820707070707063</td><td>56.76309583662523</td><td>0.7998982188295166</td></tr><tr><td>J519_1871192</td><td>-0.21469853728148447</td><td>4.3333333347693384E11</td><td>1.119298245614035</td></tr><tr><td>J519_267310</td><td>-0.25361813426329594</td><td>1.3333333337817989E11</td><td>0.7281182795698926</td></tr><tr><td>J519_1845786</td><td>-0.3279922091641365</td><td>52.29484755391704</td><td>1.1172366790582404</td></tr><tr><td>J519_1880376</td><td>0.14713549126324832</td><td>107.965257184978</td><td>0.9883895131086141</td></tr><tr><td>J519_1885893</td><td>-0.349224968579807</td><td>1.3333333345349998E11</td><td>1.0301492537313435</td></tr><tr><td>J519_264594</td><td>0.10457868410927285</td><td>35.88634784639907</td><td>0.7775824175824176</td></tr><tr><td>J519_173728</td><td>-0.07727845443091175</td><td>1.3333333339191666E11</td><td>0.7697530864197532</td></tr><tr><td>J519_224019</td><td>-0.37984154929577496</td><td>5.500000000883678E11</td><td>1.028042328042328</td></tr><tr><td>J519_260397</td><td>-0.031883590841980336</td><td>6.200000000445339E11</td><td>0.8061097461097461</td></tr><tr><td>J519_269307</td><td>0.06968161208350854</td><td>3.5133333333512476E12</td><td>0.9039545997610513</td></tr><tr><td>J519_260784</td><td>0.4651483690100022</td><td>2.810000000042237E12</td><td>0.7758290304073435</td></tr><tr><td>J519_267345</td><td>-0.1175170520882407</td><td>63.95144553302449</td><td>0.7169875222816399</td></tr><tr><td>J519_270462</td><td>-0.28405257393209205</td><td>8.333333339279366E10</td><td>0.6599588477366255</td></tr><tr><td>J519_452694</td><td>-0.3472027180067949</td><td>1.433333333987275E11</td><td>1.0078217821782178</td></tr><tr><td>J519_254874</td><td>-0.01369878625562726</td><td>64.45847524794893</td><td>0.9093220338983052</td></tr><tr><td>J519_263427</td><td>0.027448637697722544</td><td>115.88348970717392</td><td>0.9408067940552017</td></tr><tr><td>J519_269469</td><td>-0.04525405038595287</td><td>37.77551846301848</td><td>0.9286516853932584</td></tr><tr><td>J519_273264</td><td>-0.10819327731092443</td><td>1.1666666674177644E11</td><td>0.7747549019607843</td></tr><tr><td>J519_1052239</td><td>-1.0195627157652476</td><td>3.000000000583432E11</td><td>1.0934426229508196</td></tr><tr><td>J519_264587</td><td>-1.0858895705521476</td><td>6.6666666706519844E10</td><td>1.029710144927536</td></tr><tr><td>J519_302977</td><td>-0.19766866566716645</td><td>27.703976119302258</td><td>0.8294106813996317</td></tr><tr><td>J519_303374</td><td>-0.0018911209564846931</td><td>32.751010809836174</td><td>0.7930314465408806</td></tr><tr><td>J519_1651441003</td><td>-0.7190777392368906</td><td>3.500000001039167E11</td><td>1.2739285714285713</td></tr><tr><td>J519_265771</td><td>-0.6792602633617355</td><td>1.0533333334006664E12</td><td>1.2871313131313131</td></tr><tr><td>J519_498045005</td><td>-1.7604307841239106</td><td>109.20425685425683</td><td>1.6093406593406596</td></tr><tr><td>J519_1618521001</td><td>-0.22368421052631593</td><td>1.0000000006693254E11</td><td>0.7711610486891386</td></tr><tr><td>J519_1881647</td><td>-0.20222158438576332</td><td>76.650222000222</td><td>0.9527401129943504</td></tr><tr><td>J519_263198</td><td>-0.8959218769192969</td><td>7.300000001315405E11</td><td>1.1413257575757576</td></tr><tr><td>J519_1787600002</td><td>-0.16006317689530714</td><td>2.5000000005716663E11</td><td>0.9505555555555554</td></tr><tr><td>J519_1871259</td><td>-0.5359042553191489</td><td>2.333333333934445E11</td><td>1.1887387387387387</td></tr><tr><td>J519_266456</td><td>-0.4243449077062087</td><td>36.84979739956296</td><td>0.8656344086021506</td></tr><tr><td>J519_1168152002</td><td>-0.21031491002570712</td><td>4.000000000769798E11</td><td>0.9138372093023255</td></tr><tr><td>J519_263114</td><td>-0.03868500805000474</td><td>42.55652472857048</td><td>1.083782051282051</td></tr><tr><td>J519_672668</td><td>-0.3308994292462113</td><td>3.166666667388611E11</td><td>1.135</td></tr><tr><td>J519_1898066</td><td>-0.18280652305214407</td><td>3.5000000005890814E11</td><td>0.8069565217391305</td></tr><tr><td>J519_297401</td><td>-0.27623789387532405</td><td>67.03721920780744</td><td>1.33289972899729</td></tr><tr><td>J519_498204002</td><td>0.08057527024286759</td><td>90.80343827356212</td><td>0.9138536585365854</td></tr><tr><td>J519_1433081</td><td>-0.6228600950609631</td><td>40.76601673628132</td><td>1.084768115942029</td></tr><tr><td>J519_264584</td><td>-0.38193066923447283</td><td>32.53749649915661</td><td>1.0313163481953291</td></tr><tr><td>J519_498381001</td><td>-0.4125891038696534</td><td>1.3333333338673926E11</td><td>0.8354035087719298</td></tr><tr><td>J519_1884984</td><td>0.070698556527236</td><td>51.88260600936433</td><td>1.0167901234567902</td></tr><tr><td>J519_264983</td><td>-0.44333733158526045</td><td>3.276666666714058E12</td><td>1.339221411192214</td></tr><tr><td>J519_498032007</td><td>-0.22559442677570796</td><td>58.43348125777793</td><td>0.8976190476190475</td></tr><tr><td>J519_1650313001</td><td>-0.328495260663507</td><td>5.666666667212223E11</td><td>0.9420903954802261</td></tr><tr><td>J519_1775056</td><td>-0.6773104458184183</td><td>38.40854911623969</td><td>1.00993006993007</td></tr><tr><td>J519_1824084</td><td>-0.13092399403874788</td><td>58.77142857142857</td><td>0.725</td></tr><tr><td>J519_1813711</td><td>-0.3931730551145387</td><td>1.3333333338047884E11</td><td>1.005026455026455</td></tr><tr><td>J519_303359</td><td>-0.2516513761467891</td><td>59.410485810485824</td><td>1.087149758454106</td></tr><tr><td>J519_707082003</td><td>-0.12909891598916</td><td>94.80555555555557</td><td>0.7445192307692308</td></tr><tr><td>J519_1225946</td><td>-0.1063689334710134</td><td>5.3333333337551105E11</td><td>0.8323060796645703</td></tr><tr><td>J519_271434</td><td>-0.7100633356790993</td><td>2.666666667218055E11</td><td>0.8767441860465116</td></tr><tr><td>J519_498034006</td><td>-0.4473405480082888</td><td>1.3333333339982173E11</td><td>0.8875757575757576</td></tr><tr><td>J519_1842109</td><td>-0.06332764769731725</td><td>4.500000000723453E11</td><td>0.9878125000000001</td></tr><tr><td>J519_270241</td><td>-0.5837488240827844</td><td>67.57962962962962</td><td>1.0114634146341464</td></tr><tr><td>J519_407611004</td><td>0.27119414483821247</td><td>59.4881586006586</td><td>0.7529357798165137</td></tr><tr><td>J519_1261606</td><td>-0.4829827197595793</td><td>7.333333333778013E11</td><td>0.678525641025641</td></tr><tr><td>J519_1624076</td><td>-0.45055559252112554</td><td>101.20613553113553</td><td>0.9981029810298103</td></tr><tr><td>J519_498244002</td><td>0.41874399914654514</td><td>32.09092881311497</td><td>0.6044650205761316</td></tr><tr><td>J519_1558648</td><td>0.6661325063778433</td><td>14.333956328675319</td><td>0.524790378006873</td></tr><tr><td>J519_1637352</td><td>-0.07251521298174457</td><td>1.1666666676371495E11</td><td>0.9004566210045662</td></tr><tr><td>J519_992982004</td><td>-0.5932752343453975</td><td>6.290000000071204E12</td><td>3.2237751004016064</td></tr><tr><td>J519_1624835</td><td>-0.256578947368421</td><td>1.6666666675128305E11</td><td>0.8055555555555556</td></tr><tr><td>J519_264573</td><td>0.035957241227479675</td><td>33.820351308845105</td><td>0.7920785804816224</td></tr><tr><td>J519_498216004</td><td>-0.18666965888689435</td><td>8.333333337953452E10</td><td>0.776628787878788</td></tr><tr><td>J519_1083962</td><td>-0.24095328737524468</td><td>32.47739418467525</td><td>0.858102564102564</td></tr><tr><td>J519_1650313005</td><td>-0.21731787244769363</td><td>1.000000000811858E11</td><td>0.8435534591194969</td></tr><tr><td>J519_993550</td><td>-1.9034353348729791</td><td>80.55555555555556</td><td>1.2439890710382513</td></tr><tr><td>J519_1866744</td><td>-0.761634298277758</td><td>1.5000000005492462E11</td><td>0.9102777777777777</td></tr><tr><td>J519_270513</td><td>-0.03831282952548354</td><td>53.661375661375665</td><td>0.9118407960199006</td></tr><tr><td>J519_498077007</td><td>-0.7411843158175515</td><td>103.10714285714286</td><td>1.2139102564102564</td></tr><tr><td>J519_1793564</td><td>0.11478495336018624</td><td>27.20862452366102</td><td>0.8974447949526814</td></tr><tr><td>J519_264758</td><td>-0.9345331069609508</td><td>75.35340884605591</td><td>1.1561842105263158</td></tr><tr><td>J519_992981003</td><td>-1.1482498052072154</td><td>47.128779671526885</td><td>1.308020833333333</td></tr><tr><td>J519_1727214</td><td>-0.13594890510948887</td><td>4.333333333660277E11</td><td>0.8055555555555555</td></tr><tr><td>J519_1775576006</td><td>-0.24747543668122285</td><td>40.7143350979298</td><td>0.751025641025641</td></tr><tr><td>J519_256748</td><td>0.20891081693410984</td><td>23.96351196187666</td><td>0.8657352941176473</td></tr><tr><td>J519_1574175</td><td>-0.7777928969927881</td><td>5.500000000839114E11</td><td>1.4666666666666666</td></tr><tr><td>J519_1630220002</td><td>-0.7523585766423357</td><td>67.01268638768639</td><td>1.241794871794872</td></tr><tr><td>J519_990076</td><td>-2.4152015604681405</td><td>5.633333333983527E11</td><td>1.878095238095238</td></tr><tr><td>J519_1801136</td><td>-0.39670847284490063</td><td>77.20016095016095</td><td>0.8656716417910448</td></tr><tr><td>J519_1842168</td><td>-0.7878644314868801</td><td>5.166666667429245E11</td><td>1.1000666666666667</td></tr><tr><td>J519_893161010</td><td>-0.5406584276664241</td><td>94.57926332926333</td><td>0.9471380471380472</td></tr><tr><td>J519_1724538</td><td>-0.3676851087255708</td><td>4.666666667267246E11</td><td>0.9175820379965458</td></tr><tr><td>J519_255276</td><td>-0.5775749674054762</td><td>72.4047619047619</td><td>0.7666666666666667</td></tr><tr><td>J519_267099</td><td>-0.28074753804834374</td><td>52.27980713816629</td><td>0.9173469387755103</td></tr><tr><td>J519_263196</td><td>-0.07002858309514104</td><td>2.000000001044699E11</td><td>0.8551282051282051</td></tr><tr><td>J519_501664004</td><td>-0.3776307363927427</td><td>42.29400691900692</td><td>1.012542372881356</td></tr><tr><td>J519_606381</td><td>-0.06870860927152322</td><td>1.4000000000378853E12</td><td>0.9263888888888888</td></tr><tr><td>J519_1763677</td><td>0.09741782491271977</td><td>23.85317575676247</td><td>0.9523890234059726</td></tr><tr><td>J519_275420</td><td>-0.07805574523558256</td><td>95.66952165481577</td><td>0.8630952380952381</td></tr><tr><td>J519_302766</td><td>0.3032329626123994</td><td>30.312064527263477</td><td>0.729193302891933</td></tr><tr><td>J519_264981</td><td>-0.3648325358851676</td><td>36.29770253396414</td><td>0.7522902494331065</td></tr><tr><td>J519_552049001</td><td>-0.7960966542750934</td><td>1.6666666675773413E11</td><td>0.9857276995305166</td></tr><tr><td>J519_930051</td><td>-0.44564075630252087</td><td>3.000000000519166E11</td><td>0.7787037037037037</td></tr><tr><td>J519_1885823</td><td>0.37524357318934154</td><td>24.530398146458516</td><td>0.6886008230452674</td></tr><tr><td>J519_266004</td><td>-0.2246198885636035</td><td>4.0000000006456366E11</td><td>1.3272486772486771</td></tr><tr><td>J519_401513</td><td>-0.2534431137724551</td><td>1.3333333343779416E11</td><td>0.9876305220883533</td></tr><tr><td>J519_1646037</td><td>-1.091953441295547</td><td>8.33333334249262E10</td><td>0.9721383647798741</td></tr><tr><td>J519_263376</td><td>-0.803861788617886</td><td>4.666666667262777E11</td><td>1.3140625</td></tr><tr><td>J519_270480</td><td>-0.31548637092463916</td><td>91.76828726828725</td><td>1.0203703703703704</td></tr><tr><td>J519_1125828</td><td>-1.7656372677309609</td><td>59.77344877344877</td><td>1.1640845070422536</td></tr><tr><td>J519_267629</td><td>-2.6805222448734862</td><td>62.662009635954654</td><td>1.684516765285996</td></tr><tr><td>J519_911694</td><td>-0.3706819313091092</td><td>5.166666667124166E11</td><td>0.7634693877551021</td></tr><tr><td>J519_1829132003</td><td>-0.21961656966792176</td><td>1.666666667371389E11</td><td>0.9956666666666667</td></tr><tr><td>J519_260783</td><td>-0.43367054079696365</td><td>38.587262248941855</td><td>0.8754529914529915</td></tr><tr><td>J519_261074</td><td>0.46982850318645675</td><td>17.884848813674132</td><td>0.5330558308556326</td></tr><tr><td>J519_1901690</td><td>-0.41306005719732997</td><td>5.266666667101944E11</td><td>1.2528</td></tr><tr><td>J519_260813</td><td>-0.9610847249885095</td><td>74.19696969696969</td><td>1.069672131147541</td></tr><tr><td>J519_271192</td><td>-0.13828817092235535</td><td>96.65420227920228</td><td>0.796985815602837</td></tr><tr><td>J519_1259964</td><td>-0.16216882375333097</td><td>19.927469649535475</td><td>1.007644927536232</td></tr><tr><td>J519_1447891</td><td>-0.49392261529790105</td><td>51.15413521663521</td><td>1.1108994708994708</td></tr><tr><td>J519_267662</td><td>-7.668711656441118E-4</td><td>1.6666666672094046E11</td><td>0.661029411764706</td></tr><tr><td>J519_1873525</td><td>0.4078834590212951</td><td>43.64331636429159</td><td>0.6364429530201343</td></tr><tr><td>J519_270479</td><td>-0.19890803203106056</td><td>1.3333333340368915E11</td><td>0.8933870967741936</td></tr><tr><td>J519_713795</td><td>-0.28574366004112406</td><td>2.0666666673740802E11</td><td>0.8808266666666666</td></tr><tr><td>J519_1808006</td><td>-1.0555416248746239</td><td>63.91209716209716</td><td>1.1926406926406925</td></tr><tr><td>J519_267626</td><td>-0.08430949445129476</td><td>57.393286623443</td><td>1.016324200913242</td></tr><tr><td>J519_509025</td><td>-0.3244867381559722</td><td>42.90857498728128</td><td>0.9610951008645534</td></tr><tr><td>J519_1483550</td><td>-0.1074858757062147</td><td>1.4333333334133257E12</td><td>0.8374031007751938</td></tr><tr><td>J519_1790810</td><td>-0.567035800970874</td><td>36.5935093773329</td><td>1.0030363036303631</td></tr><tr><td>J519_260774</td><td>-0.1355896126011067</td><td>25.213468196602328</td><td>0.9957765151515151</td></tr><tr><td>J519_1121595</td><td>-1.14291097266881</td><td>8.333333340045508E10</td><td>1.4218446601941745</td></tr><tr><td>J519_1822534</td><td>-2.672291023748827</td><td>32.95404372765811</td><td>1.3213230994152045</td></tr><tr><td>J519_264768</td><td>-0.2633262260127931</td><td>4.666666667321389E11</td><td>0.8434640522875817</td></tr><tr><td>J519_1279451</td><td>-0.5531902651891596</td><td>22.121879926495158</td><td>1.1800515995872034</td></tr><tr><td>J519_1801327</td><td>-0.5019305348391219</td><td>129.05252838948493</td><td>1.027719298245614</td></tr><tr><td>J519_272183</td><td>-1.2269417475728153</td><td>5.333333333901388E11</td><td>1.030263157894737</td></tr><tr><td>J519_1713078</td><td>-1.4694790168240663</td><td>63.75698375698374</td><td>1.2622131147540985</td></tr><tr><td>J519_1773432</td><td>-0.9242424242424243</td><td>4.833333333986111E11</td><td>1.3694444444444445</td></tr><tr><td>J519_297427</td><td>-2.1369088673643812</td><td>77.43084595020449</td><td>1.5111368653421633</td></tr><tr><td>J519_1746566</td><td>-0.27137105629163316</td><td>1.0100000000785936E12</td><td>1.4607407407407407</td></tr><tr><td>J519_1786934</td><td>-0.20750000000000024</td><td>6.666666666960555E11</td><td>0.7113207547169811</td></tr><tr><td>J519_256053</td><td>-0.06919435889123027</td><td>59.86204587895764</td><td>0.8276725838264299</td></tr><tr><td>J519_1444579</td><td>-0.38192728556300737</td><td>1.5000000005367862E11</td><td>1.0916666666666666</td></tr><tr><td>J519_1870154</td><td>-10.625</td><td>1.3666666667933333E12</td><td>2.666129032258065</td></tr><tr><td>J519_260695</td><td>-0.10401586859688194</td><td>2.350000000034233E12</td><td>1.2801801801801802</td></tr><tr><td>J519_120480</td><td>-0.6404627539503378</td><td>1.6666666674103464E11</td><td>1.4379166666666665</td></tr><tr><td>J519_288645</td><td>-0.17841082317073198</td><td>4.566666667569895E11</td><td>1.1541056910569107</td></tr><tr><td>J519_297358</td><td>-0.27236929185969583</td><td>3.166666667710582E11</td><td>1.0815458937198066</td></tr><tr><td>J519_267558</td><td>-0.15452328815766103</td><td>27.081199672344408</td><td>0.9453145917001337</td></tr><tr><td>J519_330631</td><td>-0.8416645194537489</td><td>6.833333334195555E11</td><td>1.3677304964539008</td></tr><tr><td>J519_764300</td><td>-0.19465502061998974</td><td>43.67591976130616</td><td>0.9539890710382515</td></tr><tr><td>J519_271840</td><td>-0.7121396054628222</td><td>1.0000000004371826E11</td><td>0.9443589743589742</td></tr><tr><td>J519_547513</td><td>-0.18790296452292243</td><td>1.3566666667216077E12</td><td>1.0292657856093979</td></tr><tr><td>J519_572003</td><td>-0.06190150478796186</td><td>5.1666666671893604E11</td><td>0.7693877551020408</td></tr><tr><td>J519_1667025</td><td>-0.4515137872819359</td><td>40.227046102046096</td><td>0.828705501618123</td></tr><tr><td>J519_1793567</td><td>-0.3037536443148683</td><td>1.3333333339452779E11</td><td>0.6934782608695651</td></tr><tr><td>J519_1845718</td><td>-0.2905334728033475</td><td>1.1666666674285185E11</td><td>0.8032863849765258</td></tr><tr><td>J519_1616608</td><td>-0.5012605042016804</td><td>5.833333333989155E11</td><td>0.7193798449612404</td></tr><tr><td>J519_1666731</td><td>-0.027638190954773822</td><td>69.61111111111113</td><td>0.7368852459016394</td></tr><tr><td>J519_1752545</td><td>-0.1643109540636043</td><td>4.833333333870516E11</td><td>0.7511261261261261</td></tr><tr><td>J519_1553714</td><td>-0.7354157303370785</td><td>52.68281995781996</td><td>1.297204301075269</td></tr><tr><td>J519_1755631</td><td>-2.0246905940594058</td><td>1.3633333333735278E12</td><td>2.3161333333333336</td></tr><tr><td>J519_1770673</td><td>-0.04676895839480677</td><td>7.500000000323611E11</td><td>1.1032608695652173</td></tr><tr><td>J519_1457110</td><td>-0.4858815426997243</td><td>2.3333333340788885E11</td><td>0.8122685185185184</td></tr><tr><td>J519_1629080</td><td>-0.3261978842563782</td><td>1.6666666672542987E11</td><td>1.08025</td></tr><tr><td>J519_1865644</td><td>-0.38915315315315313</td><td>108.08095238095238</td><td>0.9366666666666666</td></tr><tr><td>J519_266029</td><td>-0.006459986493331016</td><td>74.08927553927555</td><td>0.9411226252158895</td></tr><tr><td>J519_267502</td><td>-2.2388695209369747</td><td>41.69486857425498</td><td>1.3358124999999998</td></tr><tr><td>J519_296640</td><td>-0.44814190304172263</td><td>4.1666666672775696E11</td><td>1.0716666666666665</td></tr><tr><td>J519_1651441002</td><td>-0.0282106874123198</td><td>1.0000000010641666E11</td><td>0.9328333333333333</td></tr><tr><td>J519_672586002</td><td>-0.03442335300685917</td><td>56.0534188034188</td><td>0.7704477611940299</td></tr><tr><td>J519_1836029002</td><td>-0.025856320096999008</td><td>1.0400000000255123E12</td><td>0.8715466666666666</td></tr><tr><td>J519_1819821002</td><td>0.07355108055009829</td><td>2.3333333338848785E11</td><td>0.6911214953271028</td></tr><tr><td>J519_1761141</td><td>-0.604754816721152</td><td>37.15009584499035</td><td>1.0464166666666666</td></tr><tr><td>J519_1829954003</td><td>-0.49693541300527255</td><td>2.6000000004456912E11</td><td>0.8315123456790123</td></tr><tr><td>J519_1820197</td><td>0.023911745798512296</td><td>30.13646421337029</td><td>0.9451204819277107</td></tr><tr><td>J519_498071003</td><td>-0.684579109978861</td><td>9.333333334258846E11</td><td>1.9607462686567165</td></tr><tr><td>J519_1337092</td><td>-1.8373399999999998</td><td>50.341329966329965</td><td>1.3868981481481482</td></tr><tr><td>J519_1542756</td><td>-0.1662796269263771</td><td>22.77386699232954</td><td>0.7954194260485651</td></tr><tr><td>J519_1873792</td><td>0.011537799207852695</td><td>2.3333333343110114E11</td><td>0.7552083333333334</td></tr><tr><td>J519_1894042</td><td>-0.3761581733951027</td><td>5.833333333932181E11</td><td>1.0836021505376345</td></tr><tr><td>J519_1667252</td><td>-0.8056801866475232</td><td>53.607896732896734</td><td>0.8536290322580645</td></tr><tr><td>J519_1858321</td><td>0.15517237138253792</td><td>43.18289511732884</td><td>1.2388596491228072</td></tr><tr><td>J519_498217002</td><td>-0.8660545891983071</td><td>46.7612012987013</td><td>1.0372659176029961</td></tr><tr><td>J519_1836622</td><td>-0.16111053772319117</td><td>2.3333333341393503E11</td><td>0.8843971631205675</td></tr><tr><td>J519_886615</td><td>-0.37975949133800246</td><td>98.24956806319204</td><td>1.1754192229038856</td></tr><tr><td>J519_1843490</td><td>-0.1582089552238808</td><td>2.3333333340801434E11</td><td>0.8336200716845878</td></tr><tr><td>J519_269303</td><td>-0.3788428199942211</td><td>3.000000000512511E11</td><td>1.583952380952381</td></tr><tr><td>J519_1742830</td><td>0.028449109239055304</td><td>1.8333333341714218E11</td><td>0.7595238095238096</td></tr><tr><td>J519_269489</td><td>-0.3639648233715904</td><td>24.476965973426967</td><td>0.7359139784946236</td></tr><tr><td>J519_1864599</td><td>-0.572909556313993</td><td>3.6666666671656055E11</td><td>1.2832234432234433</td></tr><tr><td>J519_269305</td><td>-0.6776207629075459</td><td>35.58694119628296</td><td>1.178165548098434</td></tr><tr><td>J519_1637353</td><td>0.02493567753001713</td><td>3.50000000066463E11</td><td>0.842611111111111</td></tr><tr><td>J519_264984</td><td>-0.2607660350592764</td><td>7.000000000938572E11</td><td>1.2114718614718614</td></tr><tr><td>J519_1836231</td><td>-1.1955909943714822</td><td>44.22483951424869</td><td>1.5002666666666666</td></tr><tr><td>J519_972044</td><td>-0.655524970507275</td><td>2.1666666671817194E11</td><td>1.0007843137254901</td></tr><tr><td>J519_1652674</td><td>0.2564043000542593</td><td>46.23835675684856</td><td>0.7276737588652482</td></tr><tr><td>J519_263716</td><td>-0.278270810003733</td><td>101.32522819248824</td><td>1.191849710982659</td></tr><tr><td>J519_1660623</td><td>-0.3466291109022175</td><td>87.09706581767281</td><td>1.0408792650918635</td></tr><tr><td>J519_473754</td><td>0.018585280954748984</td><td>46.63267979080138</td><td>0.8440526315789475</td></tr><tr><td>J519_120629</td><td>-0.757198952879581</td><td>1.5000000008696033E11</td><td>1.2340425531914894</td></tr><tr><td>J519_1871251001</td><td>-0.6738973246565441</td><td>50.791305916305916</td><td>0.9114285714285715</td></tr><tr><td>J519_1755851</td><td>0.13092543791660172</td><td>28.697697996917114</td><td>0.7022289766970619</td></tr><tr><td>J519_271266</td><td>-0.6771759730597535</td><td>1.6533333336218367E12</td><td>1.48447983014862</td></tr><tr><td>J519_1729727</td><td>-0.44078296703296704</td><td>78.02143227143226</td><td>0.8654509803921568</td></tr><tr><td>J519_526658</td><td>-2.1139435325016414</td><td>62.02113599214083</td><td>1.8145292620865139</td></tr><tr><td>J519_1476043</td><td>5.837522296090469E-4</td><td>61.10636484207087</td><td>1.4762380952380951</td></tr><tr><td>J519_270844</td><td>-0.43131660364386426</td><td>2.833333333930635E11</td><td>1.0864492753623187</td></tr><tr><td>J519_1660562</td><td>-0.5618700265251988</td><td>53.16795874690611</td><td>0.9771739130434783</td></tr><tr><td>J519_297359</td><td>-0.34027881158140416</td><td>1.5000000008706732E11</td><td>0.9493162393162393</td></tr><tr><td>J519_1796062</td><td>-0.3790755280971849</td><td>18.38635589579188</td><td>0.7126797385620917</td></tr><tr><td>J519_298136</td><td>0.43919006015468354</td><td>28.134042689687856</td><td>0.7020361990950226</td></tr><tr><td>J519_1750890</td><td>0.693598281684931</td><td>2.333333333836072E11</td><td>0.47530401737242134</td></tr><tr><td>J519_939095</td><td>-0.18370076561202842</td><td>4.6666666675353784E11</td><td>0.9611111111111111</td></tr><tr><td>J519_1843821</td><td>-0.26959459459459456</td><td>8.33333334051951E10</td><td>0.9417676767676766</td></tr><tr><td>J519_288644</td><td>-0.01784459195626731</td><td>2.3333333339546033E11</td><td>0.8921527777777777</td></tr><tr><td>J519_1599633</td><td>-0.2195379700172031</td><td>71.81853088432035</td><td>1.164647435897436</td></tr><tr><td>J519_254451</td><td>0.6715259694627229</td><td>25.70926422036075</td><td>0.4795521541950114</td></tr><tr><td>J519_1883864</td><td>-1.093489956958393</td><td>1.3333333338573567E11</td><td>1.0839555555555556</td></tr><tr><td>J519_265915</td><td>-0.47140381282495714</td><td>8.33333333766111E10</td><td>0.9465277777777777</td></tr><tr><td>J519_266687</td><td>-0.5367152027555975</td><td>3.333333334039506E11</td><td>1.282312925170068</td></tr><tr><td>J519_498230001</td><td>-0.5350730688935281</td><td>1.1666666674727779E11</td><td>0.7592727272727273</td></tr><tr><td>J519_302509</td><td>-0.595176432502428</td><td>1.0166666667227777E12</td><td>1.5604761904761906</td></tr><tr><td>J519_498035002</td><td>-0.011825842696629119</td><td>2.8333333339243176E11</td><td>0.6674113475177306</td></tr><tr><td>J519_614712</td><td>-0.7052474755835128</td><td>2.3333333345062698E11</td><td>1.3241509433962264</td></tr><tr><td>J519_989736</td><td>-0.16643084541917208</td><td>2.3333333339530557E11</td><td>0.7699612403100774</td></tr><tr><td>J519_256208</td><td>-0.6412358882947122</td><td>80.42460317460319</td><td>0.7647407407407406</td></tr><tr><td>J519_886614</td><td>-0.06700538008988333</td><td>45.32432187123748</td><td>1.0725735294117646</td></tr><tr><td>J519_260348</td><td>-0.7095214141994826</td><td>6.333333333998605E11</td><td>1.2209</td></tr><tr><td>J519_303376</td><td>-0.46529401067927467</td><td>42.25010126786406</td><td>1.2262714776632306</td></tr><tr><td>J519_260621</td><td>0.2454321121137466</td><td>3.2966666676505376E12</td><td>0.6792156079371423</td></tr><tr><td>J519_297342</td><td>-1.004206673842842</td><td>52.210078810078784</td><td>0.9878303747534516</td></tr><tr><td>J519_780388</td><td>0.242395462921</td><td>20.2164326975994</td><td>0.8255608214849921</td></tr><tr><td>J519_988830</td><td>-0.39845369583687296</td><td>2.3333333337540646E11</td><td>0.8909638554216867</td></tr><tr><td>J519_260589</td><td>-0.3230578358742602</td><td>4.166666667218353E11</td><td>1.2887244897959185</td></tr><tr><td>J519_987945</td><td>-0.10119897230944885</td><td>70.73358585858588</td><td>0.7913398692810457</td></tr><tr><td>J519_255679</td><td>-0.5636879215205395</td><td>47.74201261701263</td><td>0.8624814814814815</td></tr><tr><td>J519_271617</td><td>-1.247292418772564</td><td>2.666666667420516E11</td><td>1.0224358974358974</td></tr><tr><td>J519_729574</td><td>-0.09668425018839466</td><td>2.3333333338137506E11</td><td>0.8813725490196079</td></tr><tr><td>J519_915897</td><td>-0.005696282583449452</td><td>29.378212490898992</td><td>0.9335458167330678</td></tr><tr><td>J519_302975</td><td>-0.7635615133369624</td><td>117.9695165945166</td><td>1.1346601941747574</td></tr><tr><td>J519_439750</td><td>-0.3132022471910112</td><td>3.166666667372778E11</td><td>0.8941666666666667</td></tr><tr><td>J519_120573</td><td>-0.2664807302231238</td><td>1.0000000005449208E11</td><td>0.7534313725490196</td></tr><tr><td>J519_988831</td><td>-2.621523579201934</td><td>7.500000001681111E11</td><td>1.6626666666666667</td></tr><tr><td>J519_260395</td><td>0.3654355097718841</td><td>1.086666666717136E12</td><td>0.7750203606748112</td></tr><tr><td>J519_269292</td><td>-0.6371099917299454</td><td>1.5000000006138E11</td><td>1.2867407407407407</td></tr><tr><td>J519_254891</td><td>-0.1709208400646205</td><td>7.666666667265833E11</td><td>0.9214718614718614</td></tr><tr><td>J519_298185</td><td>-0.2951519536903038</td><td>78.50389545095429</td><td>0.9399457994579945</td></tr><tr><td>J519_1651045</td><td>0.33900115473441106</td><td>33.486465024508504</td><td>0.6932812500000001</td></tr><tr><td>J519_1821518</td><td>-1.0276162790697674</td><td>8.333333333827778E11</td><td>1.403225806451613</td></tr><tr><td>J519_1050096</td><td>-0.11665626949469754</td><td>7.166666667223507E11</td><td>1.0011904761904762</td></tr><tr><td>J519_1863083</td><td>-0.12176731122393858</td><td>2.660000000105726E12</td><td>1.165296803652968</td></tr><tr><td>J519_1504130</td><td>-2.457159793814433</td><td>5.000000008368372E10</td><td>1.8450724637681157</td></tr><tr><td>J519_1794577</td><td>-0.9671327493261452</td><td>3.933333334719716E11</td><td>1.4039682539682539</td></tr><tr><td>J519_1428657</td><td>-0.6215018465326221</td><td>6.000000001088239E11</td><td>1.4450427350427353</td></tr><tr><td>J519_1437535</td><td>0.08691669450941109</td><td>41.17420237707578</td><td>0.8582749326145552</td></tr><tr><td>J519_1680635</td><td>0.3813486060082125</td><td>82.28674566174566</td><td>0.7602430555555556</td></tr><tr><td>J519_1806579</td><td>-0.23733951497860195</td><td>1.1333333333819385E12</td><td>0.6676975945017183</td></tr><tr><td>J519_1610160</td><td>-0.84819897084048</td><td>3.333333333959722E11</td><td>0.8778911564625851</td></tr><tr><td>J519_1672652</td><td>-0.2513093289689037</td><td>2.1666666673449207E11</td><td>0.7533333333333334</td></tr><tr><td>J519_1651054</td><td>0.0010736196319016678</td><td>4.0000000007898413E11</td><td>0.6743650793650793</td></tr><tr><td>J519_1560731</td><td>0.17987466611875902</td><td>3.166666667183458E11</td><td>0.8204878048780488</td></tr><tr><td>J519_1868971</td><td>-1.1296448790530103</td><td>3.3333333342403455E11</td><td>1.102763157894737</td></tr><tr><td>J519_1897405</td><td>-0.9777242624924745</td><td>7.166666667086945E11</td><td>1.2704761904761905</td></tr><tr><td>J519_1433845</td><td>0.03589109193108864</td><td>6.700000000574917E11</td><td>0.6878205128205128</td></tr><tr><td>J519_1473035</td><td>0.6630476693581633</td><td>12.700300484097049</td><td>0.5091848768643774</td></tr><tr><td>J519_1730196</td><td>-0.24634213912919112</td><td>1.3333333334050078E12</td><td>0.8993757361601885</td></tr><tr><td>J519_1542761</td><td>-0.3423843782117164</td><td>3.500000000749742E11</td><td>0.7272480620155038</td></tr><tr><td>J519_1818593</td><td>-0.6552067526555392</td><td>1.33333333390638E11</td><td>1.082465277777778</td></tr><tr><td>J519_1801137</td><td>-0.2389042692699983</td><td>61.56866281866281</td><td>0.9255643044619422</td></tr><tr><td>J519_1650343</td><td>-0.16817155756207636</td><td>4.1666666670763885E11</td><td>0.9528571428571428</td></tr><tr><td>J519_1024379</td><td>-0.06917081416095416</td><td>5.000000000754632E11</td><td>0.7965333333333333</td></tr><tr><td>J519_1542758</td><td>0.21664954401049485</td><td>63.725692019891554</td><td>0.9329100529100529</td></tr><tr><td>J519_1448697</td><td>-0.475695641467619</td><td>5.000000005823017E10</td><td>1.1894202898550725</td></tr><tr><td>J519_260351</td><td>0.08674286979505419</td><td>1.6333333333769114E12</td><td>0.7959040880503142</td></tr><tr><td>J519_260461</td><td>-0.06675359116022084</td><td>4.8333333340024603E11</td><td>0.7769949494949494</td></tr><tr><td>J519_302915</td><td>-0.3837569019688041</td><td>1.85000000006006E12</td><td>0.9736378205128206</td></tr><tr><td>J519_260965</td><td>-1.376191633295751</td><td>44.799563540152256</td><td>1.308852657004831</td></tr><tr><td>J519_263611</td><td>-0.2901791044776123</td><td>3.3333333397789104E10</td><td>0.8838095238095237</td></tr><tr><td>J519_255246</td><td>-0.1310321715817695</td><td>51.085125060125044</td><td>0.7809363295880151</td></tr><tr><td>J519_113746</td><td>-0.3200772652774526</td><td>52.25305070603058</td><td>1.0460714285714285</td></tr><tr><td>J519_173725</td><td>-0.15883807169344877</td><td>2.1666666673214288E11</td><td>0.8028248587570622</td></tr><tr><td>J519_717547</td><td>-0.40056148630399857</td><td>30.228651096543246</td><td>1.17838768115942</td></tr><tr><td>J519_270230</td><td>-0.4887524408765458</td><td>42.65567813828683</td><td>1.1666996699669967</td></tr><tr><td>J519_267217</td><td>-0.13497773120251488</td><td>56.23639666125617</td><td>1.0819883040935672</td></tr><tr><td>J519_975081</td><td>-0.017735204855841902</td><td>3.1666666680909064E11</td><td>1.1460734463276836</td></tr><tr><td>J519_610556</td><td>-0.8880737943056358</td><td>9.500000001219211E11</td><td>1.3694444444444445</td></tr><tr><td>J519_267553</td><td>-0.46059322033898287</td><td>1.3333333339524832E11</td><td>0.7661347517730497</td></tr><tr><td>J519_503951</td><td>-0.975846613545817</td><td>46.384920634920626</td><td>0.9817708333333333</td></tr><tr><td>J519_438964</td><td>0.2127949538629167</td><td>78.62248938402783</td><td>0.7513636363636363</td></tr><tr><td>J519_263234</td><td>0.28524639725889345</td><td>7.333333333856898E11</td><td>0.8055555555555556</td></tr><tr><td>J519_263722</td><td>-0.4189987709954939</td><td>1.6666666722145409E10</td><td>1.0847567567567569</td></tr><tr><td>J519_272191</td><td>-0.24721913236929938</td><td>6.666666674782937E10</td><td>1.0826666666666667</td></tr><tr><td>J519_267564</td><td>0.4399002130955336</td><td>30.98994229617173</td><td>0.7845149253731344</td></tr><tr><td>J519_260384</td><td>-0.18685578330893104</td><td>1.1600000000397827E12</td><td>1.2146376811594202</td></tr></tbody></table></div>"
      ]
     },
     "metadata": {
      "application/vnd.databricks.v1+output": {
       "addedWidgets": {},
       "aggData": [],
       "aggError": "",
       "aggOverflow": false,
       "aggSchema": [],
       "aggSeriesLimitReached": false,
       "aggType": "",
       "arguments": {},
       "columnCustomDisplayInfos": {},
       "data": [
        [
         "J519_120660",
         -0.34566037735849053,
         63.05925925925925,
         0.7562745098039216
        ],
        [
         "J519_1222065",
         -0.435063381966037,
         40.79365079365079,
         0.7279835390946502
        ],
        [
         "J519_1729699",
         -0.6385231825987405,
         70.39550264550265,
         0.7558510638297873
        ],
        [
         "J519_1801353",
         -0.5918267945022015,
         31.605758357452945,
         1.138924924924925
        ],
        [
         "J519_1856076",
         -0.17206601466992666,
         1.1000000000549739E12,
         1.112673611111111
        ],
        [
         "J519_1885273",
         -0.15261958997722092,
         5.500000000478612E11,
         0.8752252252252252
        ],
        [
         "J519_1896346",
         -0.10746129204484767,
         72.36150396444515,
         0.8761375661375661
        ],
        [
         "J519_1899350",
         0.16520485559359788,
         63.85132154172922,
         0.8682941176470589
        ],
        [
         "J519_269410",
         -0.46916292495189227,
         48.781746031746025,
         0.8738157894736842
        ],
        [
         "J519_1051189",
         0.6096390367516948,
         24.876020154254395,
         0.6005443698732288
        ],
        [
         "J519_1622811",
         -0.5054182509505702,
         35.644912494912504,
         0.9099082568807338
        ],
        [
         "J519_1802175",
         -0.22516172206111995,
         1.6166666667255261E12,
         0.977308868501529
        ],
        [
         "J519_264982",
         -0.4077181497114306,
         1.0000000004801445E11,
         0.9055102040816326
        ],
        [
         "J519_266074",
         -0.13583753690944889,
         19.16067101280971,
         0.7648795944233209
        ],
        [
         "J519_270939",
         -0.3127582518100491,
         85.28384936747766,
         1.2392307692307694
        ],
        [
         "J519_302470001",
         -0.27779285746332305,
         42.79677002066554,
         1.1714473684210527
        ],
        [
         "J519_302949",
         0.4498903372039289,
         17.833829938204097,
         0.660492866407263
        ],
        [
         "J519_1656333",
         -0.9192675320306971,
         48.032660927130394,
         1.4315174506828527
        ],
        [
         "J519_1777501",
         -0.1336967917802474,
         3.6666666675350793E11,
         1.1005128205128205
        ],
        [
         "J519_260718",
         -1.9484279574756846,
         2.7833333333666035E12,
         1.9333333333333333
        ],
        [
         "J519_267686",
         -0.6428387161618871,
         24.32441619505385,
         1.1679006410256407
        ],
        [
         "J519_298072",
         -1.0795562977099236,
         1.6666666671994608E11,
         1.3694444444444445
        ],
        [
         "J519_498075002",
         -0.7759959486833221,
         38.26871091871091,
         1.1245801526717558
        ],
        [
         "J519_693559",
         -5.144301546391752,
         65.82750443139133,
         2.450942895086321
        ],
        [
         "J519_1086947",
         -0.7547363068429465,
         5.56666666720107E11,
         1.51468671679198
        ],
        [
         "J519_1558641",
         0.35883483909504943,
         26.89977753456113,
         0.7175257731958762
        ],
        [
         "J519_1704593",
         -0.3932063422153709,
         4.0333333341207245E11,
         0.9605774278215221
        ],
        [
         "J519_254991",
         -0.33255476804123707,
         4.8333333337535706E11,
         0.9004032258064517
        ],
        [
         "J519_263111",
         0.13214288527017404,
         39.6501781139397,
         0.9318353576248314
        ],
        [
         "J519_266318",
         -1.4178452942203599,
         55.556369142553365,
         1.3825770308123246
        ],
        [
         "J519_730789",
         0.07067587209302295,
         8.000000000394861E11,
         0.9666666666666667
        ],
        [
         "J519_1351050",
         -0.766817335814943,
         55.24007936507937,
         1.1166666666666667
        ],
        [
         "J519_1687566",
         -0.046377922575699726,
         1.3333333338108333E11,
         0.8055555555555555
        ],
        [
         "J519_1838398",
         -1.073792452830188,
         6.666666667631421E11,
         1.1558571428571427
        ],
        [
         "J519_1871152",
         -0.1390161798240852,
         105.55508750508751,
         1.1155855855855854
        ],
        [
         "J519_271656",
         0.052561307901907384,
         50.97036458852317,
         0.8948082595870206
        ],
        [
         "J519_545397",
         -0.5074854180168502,
         42.00379250379251,
         1.0389408099688473
        ],
        [
         "J519_563666",
         -0.3977392135010347,
         85.68581048581049,
         0.9641880341880341
        ],
        [
         "J519_1650314002",
         -0.506818918626851,
         49.917864325217266,
         1.136915422885572
        ],
        [
         "J519_1651050",
         0.40204071786954854,
         46.45145271301459,
         0.6137094017094017
        ],
        [
         "J519_1871251002",
         -0.19426943699731902,
         2.833333333805694E11,
         0.6858730158730159
        ],
        [
         "J519_1884797",
         0.3002802913264181,
         12.50502977128553,
         0.6669187675070026
        ],
        [
         "J519_389628",
         -0.07876980598484518,
         58.81840966705527,
         0.7887912912912913
        ],
        [
         "J519_994296",
         -1.5725639253628199,
         55.94444444444445,
         1.010042735042735
        ],
        [
         "J519_1290078",
         -0.19675210511705354,
         36.59321683075553,
         0.8573124999999998
        ],
        [
         "J519_1556110",
         -0.4594907407407405,
         4.500000000428889E11,
         1.1007526881720429
        ],
        [
         "J519_1880372",
         0.344604272807967,
         3.66666666796645E11,
         0.7463565891472869
        ],
        [
         "J519_260711",
         -0.41704388899822886,
         1.116666666718488E12,
         0.7711610486891386
        ],
        [
         "J519_302331",
         -0.39887760081629,
         53.53833451170408,
         1.0057760814249364
        ],
        [
         "J519_498071002",
         -0.1677590753955942,
         41.10974490130499,
         1.019870801033592
        ],
        [
         "J519_1652116",
         -1.543208661417323,
         6.033333333763889E11,
         0.92075
        ],
        [
         "J519_1716537",
         -1.2830947511929107,
         7.666666667590557E11,
         1.1902985074626866
        ],
        [
         "J519_1730650",
         -0.27896167788710513,
         32.656949531949536,
         0.8688759689922481
        ],
        [
         "J519_1859900",
         -3.1512434933487565,
         54.09364715079327,
         1.7716939890710381
        ],
        [
         "J519_245681",
         -0.8034450897571277,
         8.333333342535774E10,
         1.5967901234567903
        ],
        [
         "J519_263311",
         -0.1944656696867153,
         3.000000000734702E11,
         1.132191780821918
        ],
        [
         "J519_1236881",
         -0.37998421586681186,
         51.023245055598,
         1.006122448979592
        ],
        [
         "J519_1650346",
         -2.2467088922006964,
         1.1666666673547198E11,
         1.5194989106753816
        ],
        [
         "J519_1658251",
         -0.7970709725873077,
         47.076904576904575,
         1.2522324159021405
        ],
        [
         "J519_270343",
         -0.7772511848341235,
         5.000000005164681E10,
         1.0246666666666666
        ],
        [
         "J519_271640",
         -0.1359243697478989,
         4.0000000003943256E11,
         0.8901388888888889
        ],
        [
         "J519_507641",
         -0.211568123393316,
         62.856623695785,
         1.4738444444444443
        ],
        [
         "J519_1446580",
         -0.23326003082632196,
         27.129320207359154,
         0.9934194341943421
        ],
        [
         "J519_1585989",
         -0.7650293255131966,
         45.562830687830676,
         0.9666666666666668
        ],
        [
         "J519_263227",
         -0.6102233304423246,
         44.43003801753802,
         0.9916479400749063
        ],
        [
         "J519_267239",
         -0.007242879746835129,
         2.3333333342617484E11,
         0.9723529411764705
        ],
        [
         "J519_602271",
         -0.2879979035639415,
         2.5000000004332803E11,
         0.8873134328358209
        ],
        [
         "J519_603156",
         -0.46089385474860345,
         4.0000000004881354E11,
         0.9028301886792451
        ],
        [
         "J519_1094065",
         -0.022575019672061325,
         38.203726562582055,
         0.8031144781144781
        ],
        [
         "J519_1560936",
         -0.37489035087719325,
         1.5000000007791824E11,
         0.8646296296296296
        ],
        [
         "J519_1630571",
         -0.1324526287696821,
         2.500000000383311E11,
         0.7329234972677596
        ],
        [
         "J519_266664",
         -0.29094284577642227,
         2.166666667138885E11,
         0.7795698924731183
        ],
        [
         "J519_267241",
         -0.0039195385298034235,
         5.000000000398103E11,
         0.5829896907216495
        ],
        [
         "J519_599072",
         -0.07797555791710953,
         6.666666674473214E10,
         0.7982323232323232
        ],
        [
         "J519_1381090003",
         0.11442853282896503,
         62.02777777777778,
         0.7169444444444444
        ],
        [
         "J519_1564556",
         0.2355861574125181,
         54.6389980018104,
         0.8846271929824562
        ],
        [
         "J519_1599630",
         -0.48266767143933675,
         75.22222222222223,
         0.7512048192771084
        ],
        [
         "J519_255543",
         -0.7180531453362256,
         96.83323985955565,
         1.445261437908497
        ],
        [
         "J519_271861",
         -0.34925828970331607,
         36.78505291005291,
         0.9335616438356165
        ],
        [
         "J519_1477044002",
         -0.8871520514883349,
         48.95761749144103,
         0.994099099099099
        ],
        [
         "J519_1752543",
         -0.12502896871378955,
         4.333333333834444E11,
         0.7930246913580247
        ],
        [
         "J519_266077",
         -0.4708906310242902,
         84.70833333333334,
         0.9666666666666667
        ],
        [
         "J519_269339",
         -0.35648613551294805,
         34.42612913493568,
         1.0853985507246378
        ],
        [
         "J519_294585",
         -0.22136681762042,
         4.166666667195834E11,
         1.2096396396396394
        ],
        [
         "J519_1716210",
         -0.5188369781312128,
         36.1468253968254,
         0.98981220657277
        ],
        [
         "J519_1888808",
         -1.3832852594448672,
         40.6060472480387,
         1.5985904761904761
        ],
        [
         "J519_268975",
         -0.13060961362123624,
         1.4700000000236528E12,
         0.8170945945945948
        ],
        [
         "J519_458919",
         -0.13330381890976306,
         1.0666666667279386E12,
         0.9617985611510792
        ],
        [
         "J519_893161003",
         -0.15183857186451033,
         1.0500000000529833E12,
         1.1083101851851849
        ],
        [
         "J519_1422063",
         -0.15643821827027926,
         2.7666666673039355E11,
         0.8633660130718954
        ],
        [
         "J519_1726268",
         0.061939810983841936,
         47.49518610044925,
         1.0185365853658535
        ],
        [
         "J519_713790",
         0.6410630591281897,
         31.85327514423334,
         0.5898522895125554
        ],
        [
         "J519_911376002",
         -0.41654354587869347,
         68.00793650793649,
         0.8905416666666666
        ],
        [
         "J519_992063",
         -0.30046189376443455,
         85.52558922558924,
         0.8974129353233831
        ],
        [
         "J519_1463041",
         0.23108168837087073,
         25.742921239728744,
         0.6492262309961426
        ],
        [
         "J519_1825557",
         -0.21663716814159284,
         4.900000000426999E11,
         0.7886468646864687
        ],
        [
         "J519_1859972",
         -1.073876803426511,
         2.5000000008008948E11,
         2.3010552763819097
        ],
        [
         "J519_1883951003",
         -0.30128690386071155,
         50.920634920634924,
         0.9177215189873418
        ],
        [
         "J519_297486",
         -0.10347411444141708,
         8.333333340163095E10,
         0.8962146892655368
        ],
        [
         "J519_1649052",
         -0.4579228912518758,
         2.3333333338175568E11,
         0.9191129032258065
        ],
        [
         "J519_1662625001",
         -0.05524642289348192,
         5.333333333674167E11,
         0.7595238095238095
        ],
        [
         "J519_254877",
         -0.3584051724137931,
         48.32777777777778,
         0.8635555555555556
        ],
        [
         "J519_263375",
         -1.0956997906265107,
         1.000000000657675E11,
         1.186126126126126
        ],
        [
         "J519_266076",
         -1.3392732023039016,
         41.038510479527105,
         1.1419651741293535
        ],
        [
         "J519_1468043",
         0.007329460269865029,
         29.648202483887182,
         0.6802322404371584
        ],
        [
         "J519_1726271",
         -0.3918245469522237,
         2.6666666673273615E11,
         1.1316666666666668
        ],
        [
         "J519_1825561",
         -0.11874023517802801,
         5.50000000049869E11,
         0.7715596330275228
        ],
        [
         "J519_267507",
         -0.5238718861209961,
         60.11790524290526,
         0.9430370370370371
        ],
        [
         "J519_267658",
         -0.07300353356890454,
         2.833333333798237E11,
         0.8730208333333332
        ],
        [
         "J519_1010569",
         -0.26823136172067996,
         1.8333333345036703E11,
         0.9327705627705627
        ],
        [
         "J519_1557",
         0.60812255796942,
         28.33929570720834,
         0.5627777777777778
        ],
        [
         "J519_261284",
         -0.33589470480827766,
         4.433333334044245E11,
         0.838501872659176
        ],
        [
         "J519_265008",
         -0.09867973983108458,
         101.60515873015872,
         0.9232905982905983
        ],
        [
         "J519_891090001",
         -1.2438930457746484,
         48.20913808413809,
         1.0283687943262412
        ],
        [
         "J519_1726640",
         -0.26303019410496065,
         61.703222703222714,
         0.8222943722943722
        ],
        [
         "J519_1745036",
         0.06660066201678738,
         1.6666666669984525E11,
         0.6530141843971632
        ],
        [
         "J519_1891489",
         -1.0229850746268658,
         1.1666666676274602E11,
         1.265658914728682
        ],
        [
         "J519_267106",
         -1.5715066496629615,
         53.17063492063493,
         1.1261666666666668
        ],
        [
         "J519_273266",
         -0.20215311004784686,
         1.8333333338172623E11,
         0.7250000000000001
        ],
        [
         "J519_1421183",
         -1.0591107871720116,
         45.47089947089947,
         0.9632142857142856
        ],
        [
         "J519_1651702",
         0.10784804535080628,
         72.55260095091515,
         0.8501296296296297
        ],
        [
         "J519_260717",
         -0.2667462890291761,
         52.41441798941799,
         0.8429333333333334
        ],
        [
         "J519_265831",
         -0.8467153284671534,
         1.5000000004796423E11,
         0.9896825396825397
        ],
        [
         "J519_693967",
         -1.5808294847414657,
         6.166666667518859E11,
         1.6334018264840184
        ],
        [
         "J519_1030292",
         -0.9068431568431568,
         6.166666667434446E11,
         1.264102564102564
        ],
        [
         "J519_1218302",
         -0.2929592532382401,
         47.871856089095694,
         1.045863453815261
        ],
        [
         "J519_1395546",
         -1.9658088756139023,
         31.46121940209778,
         1.3702835648148146
        ],
        [
         "J519_1556",
         0.7705357773549901,
         18.4689514576901,
         0.4387179487179486
        ],
        [
         "J519_1855214",
         -0.15309805174065816,
         71.71296296296298,
         0.9517948717948719
        ],
        [
         "J519_1740133",
         0.08787031861375083,
         41.53148896310662,
         0.8813213213213213
        ],
        [
         "J519_260619",
         -0.671827554153404,
         1.2433333333886453E12,
         0.787490465293669
        ],
        [
         "J519_268966",
         -1.7140825664556156,
         86.41596155841839,
         1.5781460134486072
        ],
        [
         "J519_498204003",
         -0.3667662489070245,
         34.07782685723863,
         0.9333038348082597
        ],
        [
         "J519_529305",
         -0.5277327935222669,
         6.666666672077776E10,
         0.857111111111111
        ],
        [
         "J519_1462111",
         -0.5808400832735605,
         1.0000000006361847E11,
         1.423148148148148
        ],
        [
         "J519_1586338",
         -0.2839459864966243,
         4.000000000554722E11,
         0.7647679324894515
        ],
        [
         "J519_266976",
         -0.197074588311269,
         3.0000000005673785E11,
         0.7965013774104682
        ],
        [
         "J519_302938",
         -0.3167548076923079,
         6.166666667356853E11,
         1.0216666666666667
        ],
        [
         "J519_476738",
         -0.7893663267012208,
         58.78186628186627,
         1.0248995983935743
        ],
        [
         "J519_1819829",
         -0.18179287305122505,
         4.1666666670805566E11,
         0.9539473684210527
        ],
        [
         "J519_264767",
         0.40505594723989,
         35.302054877261426,
         0.8525528455284551
        ],
        [
         "J519_267767",
         -0.33822314049586777,
         2.833333334003056E11,
         0.8647272727272728
        ],
        [
         "J519_302689",
         -0.2895351499885501,
         7.666666667071136E11,
         0.9375627240143369
        ],
        [
         "J519_956054",
         -0.47622365441560666,
         43.274114774114786,
         1.0596153846153846
        ],
        [
         "J519_1756094",
         -0.10715951492537301,
         1.250000000040306E12,
         1.2156565656565657
        ],
        [
         "J519_256060",
         -0.17128987517337046,
         101.2685185185185,
         0.9756172839506173
        ],
        [
         "J519_493510008",
         -0.37589054404145084,
         6.666666667371901E11,
         0.9227272727272727
        ],
        [
         "J519_995384003",
         -0.3113839285714288,
         1.833333333843056E11,
         0.7799242424242425
        ],
        [
         "J519_1503096",
         -0.0668490340229102,
         2.8333333340190875E11,
         0.8032863849765258
        ],
        [
         "J519_1669597",
         0.013223295507830746,
         1.7400000000482498E12,
         1.8501265822784811
        ],
        [
         "J519_295778",
         -0.41677534084173073,
         1.5000000013110742E11,
         1.095
        ],
        [
         "J519_501606003",
         -0.4533647118687192,
         58.41575572416197,
         1.2020039682539683
        ],
        [
         "J519_1127785",
         -0.23128759302681234,
         36.85617160617161,
         0.8633333333333334
        ],
        [
         "J519_1859272",
         0.6089152350681513,
         15.232757607523196,
         0.6131428571428572
        ],
        [
         "J519_270808",
         -0.3622448979591837,
         3.3333333339427783E11,
         0.763978494623656
        ],
        [
         "J519_498032003",
         -0.4851497933884301,
         62.627287581699356,
         0.8452533333333332
        ],
        [
         "J519_1647815",
         -0.6436923523857936,
         45.627633015133014,
         0.9446612466124662
        ],
        [
         "J519_1850069",
         0.4418541515469181,
         1.3666666674270642E11,
         0.6687608426270135
        ],
        [
         "J519_263372",
         -0.11306364590708218,
         2.0000000011907422E11,
         1.0236930455635491
        ],
        [
         "J519_498055003",
         -0.30565449688334856,
         2.500000000657123E11,
         0.8967871485943776
        ],
        [
         "J519_1232538",
         -0.07134518215447572,
         5.476666666705524E12,
         1.5104531722054382
        ],
        [
         "J519_1856283002",
         0.02579185520362004,
         1.1666666676513255E11,
         0.9159562841530055
        ],
        [
         "J519_260574",
         0.7092439633321264,
         21.657017029621045,
         0.5226210428305401
        ],
        [
         "J519_297485",
         -1.2684836954117076,
         50.248853285231,
         1.2989583333333334
        ],
        [
         "J519_1031150",
         -0.25321771013691485,
         48.03138194729038,
         1.0357767722473603
        ],
        [
         "J519_1554053",
         -0.15114006514657974,
         1.0000000005888889E11,
         0.615399061032864
        ],
        [
         "J519_265205",
         0.009292351679771271,
         74.60242450045081,
         0.9916666666666667
        ],
        [
         "J519_266069",
         -0.660887096774194,
         1.3333333338656744E11,
         0.8166169154228856
        ],
        [
         "J519_1432611",
         -0.04230967078189307,
         2.833333333918947E11,
         0.97421875
        ],
        [
         "J519_1680636",
         0.157021461602308,
         139.08890246530135,
         0.9301160862354892
        ],
        [
         "J519_255247",
         0.0913106526073666,
         45.21882581037268,
         0.8411647727272727
        ],
        [
         "J519_298135",
         0.2613725764261896,
         4.6666666669057263E11,
         0.6802094240837696
        ],
        [
         "J519_1322213",
         -0.2100016753224998,
         1.3333333341602147E11,
         0.9440104166666667
        ],
        [
         "J519_1617614",
         -0.5460288808664258,
         1.66666666794451E11,
         0.8363295880149813
        ],
        [
         "J519_254990",
         -0.5040523292916401,
         68.82424737571796,
         0.9728042328042328
        ],
        [
         "J519_260699",
         0.15173702328109429,
         56.10022902724516,
         0.7478441127694859
        ],
        [
         "J519_1555303",
         -0.1993153376458503,
         6.666666667134122E11,
         1.0204675716440421
        ],
        [
         "J519_1821380",
         -0.14991689750692516,
         33.63866993454589,
         0.980566448801743
        ],
        [
         "J519_266032",
         -0.46638082858101315,
         48.83482990384312,
         1.1983234714003943
        ],
        [
         "J519_274729",
         -0.29537953795379557,
         1.3333333340537698E11,
         0.7624413145539907
        ],
        [
         "J519_1729738",
         -0.2606172140430352,
         1.5000000007322797E11,
         0.9273255813953488
        ],
        [
         "J519_1843753",
         -0.2528130114566287,
         6.333333334088953E11,
         0.8411858974358974
        ],
        [
         "J519_297419",
         -0.3004951115567811,
         4.8333333339528674E11,
         0.77521645021645
        ],
        [
         "J519_355161",
         -0.5010522469857508,
         1.3666666674616058E11,
         1.243019607843137
        ],
        [
         "J519_1860646",
         -0.2021681997371878,
         4.7333333336576196E11,
         0.7733333333333333
        ],
        [
         "J519_266979",
         -1.0615008880994674,
         62.698412698412696,
         1.0656626506024096
        ],
        [
         "J519_295965",
         -0.07398294879822753,
         1.1500000000318506E12,
         0.8259453551912569
        ],
        [
         "J519_437680",
         -1.1725793544945322,
         75.346102971103,
         1.378217821782178
        ],
        [
         "J519_1789716",
         -0.479965532098233,
         2.6666666670591666E11,
         0.8615942028985507
        ],
        [
         "J519_260692",
         -0.09553689792311082,
         2.3333333338263196E11,
         0.831490514905149
        ],
        [
         "J519_270625",
         -0.11122282608695655,
         1.6666666673450116E11,
         0.7416145833333334
        ],
        [
         "J519_298086",
         -0.13688404681244215,
         3.5000000005924756E11,
         0.8665962441314554
        ],
        [
         "J519_1086931",
         -0.8967343578485181,
         49.4702380952381,
         0.971060606060606
        ],
        [
         "J519_263228",
         -0.4603296282100422,
         6.666666673890277E10,
         0.8592592592592593
        ],
        [
         "J519_270664",
         -0.24176372712146432,
         1.500000000712513E11,
         0.8323376623376623
        ],
        [
         "J519_298143",
         -1.1922254034357112,
         2.833333333857554E11,
         1.17106135986733
        ],
        [
         "J519_1241476",
         -0.2260649087221096,
         73.71269652642202,
         0.8109259259259259
        ],
        [
         "J519_1336519",
         -0.4807891332470897,
         31.11673181228583,
         1.1549455337690633
        ],
        [
         "J519_1448100",
         -1.2852957741691,
         40.058119373676135,
         1.620133333333334
        ],
        [
         "J519_271089",
         -0.5758119243819684,
         1.000000000430754E11,
         1.0252112676056337
        ],
        [
         "J519_1332050",
         -0.45043586550435877,
         48.588013838013836,
         1.0234057971014494
        ],
        [
         "J519_1802312",
         -0.13678332092330625,
         3.833333334165492E11,
         1.0012757201646092
        ],
        [
         "J519_256760",
         -0.12588327662915466,
         48.602600232011994,
         0.8920467836257311
        ],
        [
         "J519_303938",
         -0.08274466357381605,
         17.78561775699036,
         0.6769158075601375
        ],
        [
         "J519_1342104",
         -0.31547703180212006,
         9.833333333693031E11,
         1.1727297668038408
        ],
        [
         "J519_1891510",
         -1.4824812967581051,
         5.666666667633334E11,
         1.5052380952380953
        ],
        [
         "J519_1892377",
         -0.7642379891823099,
         2.1666666677346185E11,
         1.2162015503875967
        ],
        [
         "J519_267216",
         0.039986059479553804,
         53.789682539682524,
         0.8753703703703705
        ],
        [
         "J519_113752",
         -0.2885437767274366,
         55.38015176830967,
         0.755889724310777
        ],
        [
         "J519_1290076",
         -0.8735423985560962,
         39.04212155309937,
         1.7073895582329317
        ],
        [
         "J519_1644245",
         -0.5191208791208792,
         50.831168831168824,
         0.8516455696202532
        ],
        [
         "J519_266092",
         -0.40517966590554044,
         38.38932363932363,
         0.7652777777777778
        ],
        [
         "J519_1840619",
         -0.3796159029649595,
         58.74312169312168,
         0.7312211221122112
        ],
        [
         "J519_1850084",
         -0.40820707070707063,
         56.76309583662523,
         0.7998982188295166
        ],
        [
         "J519_1871192",
         -0.21469853728148447,
         4.3333333347693384E11,
         1.119298245614035
        ],
        [
         "J519_267310",
         -0.25361813426329594,
         1.3333333337817989E11,
         0.7281182795698926
        ],
        [
         "J519_1845786",
         -0.3279922091641365,
         52.29484755391704,
         1.1172366790582404
        ],
        [
         "J519_1880376",
         0.14713549126324832,
         107.965257184978,
         0.9883895131086141
        ],
        [
         "J519_1885893",
         -0.349224968579807,
         1.3333333345349998E11,
         1.0301492537313435
        ],
        [
         "J519_264594",
         0.10457868410927285,
         35.88634784639907,
         0.7775824175824176
        ],
        [
         "J519_173728",
         -0.07727845443091175,
         1.3333333339191666E11,
         0.7697530864197532
        ],
        [
         "J519_224019",
         -0.37984154929577496,
         5.500000000883678E11,
         1.028042328042328
        ],
        [
         "J519_260397",
         -0.031883590841980336,
         6.200000000445339E11,
         0.8061097461097461
        ],
        [
         "J519_269307",
         0.06968161208350854,
         3.5133333333512476E12,
         0.9039545997610513
        ],
        [
         "J519_260784",
         0.4651483690100022,
         2.810000000042237E12,
         0.7758290304073435
        ],
        [
         "J519_267345",
         -0.1175170520882407,
         63.95144553302449,
         0.7169875222816399
        ],
        [
         "J519_270462",
         -0.28405257393209205,
         8.333333339279366E10,
         0.6599588477366255
        ],
        [
         "J519_452694",
         -0.3472027180067949,
         1.433333333987275E11,
         1.0078217821782178
        ],
        [
         "J519_254874",
         -0.01369878625562726,
         64.45847524794893,
         0.9093220338983052
        ],
        [
         "J519_263427",
         0.027448637697722544,
         115.88348970717392,
         0.9408067940552017
        ],
        [
         "J519_269469",
         -0.04525405038595287,
         37.77551846301848,
         0.9286516853932584
        ],
        [
         "J519_273264",
         -0.10819327731092443,
         1.1666666674177644E11,
         0.7747549019607843
        ],
        [
         "J519_1052239",
         -1.0195627157652476,
         3.000000000583432E11,
         1.0934426229508196
        ],
        [
         "J519_264587",
         -1.0858895705521476,
         6.6666666706519844E10,
         1.029710144927536
        ],
        [
         "J519_302977",
         -0.19766866566716645,
         27.703976119302258,
         0.8294106813996317
        ],
        [
         "J519_303374",
         -0.0018911209564846931,
         32.751010809836174,
         0.7930314465408806
        ],
        [
         "J519_1651441003",
         -0.7190777392368906,
         3.500000001039167E11,
         1.2739285714285713
        ],
        [
         "J519_265771",
         -0.6792602633617355,
         1.0533333334006664E12,
         1.2871313131313131
        ],
        [
         "J519_498045005",
         -1.7604307841239106,
         109.20425685425683,
         1.6093406593406596
        ],
        [
         "J519_1618521001",
         -0.22368421052631593,
         1.0000000006693254E11,
         0.7711610486891386
        ],
        [
         "J519_1881647",
         -0.20222158438576332,
         76.650222000222,
         0.9527401129943504
        ],
        [
         "J519_263198",
         -0.8959218769192969,
         7.300000001315405E11,
         1.1413257575757576
        ],
        [
         "J519_1787600002",
         -0.16006317689530714,
         2.5000000005716663E11,
         0.9505555555555554
        ],
        [
         "J519_1871259",
         -0.5359042553191489,
         2.333333333934445E11,
         1.1887387387387387
        ],
        [
         "J519_266456",
         -0.4243449077062087,
         36.84979739956296,
         0.8656344086021506
        ],
        [
         "J519_1168152002",
         -0.21031491002570712,
         4.000000000769798E11,
         0.9138372093023255
        ],
        [
         "J519_263114",
         -0.03868500805000474,
         42.55652472857048,
         1.083782051282051
        ],
        [
         "J519_672668",
         -0.3308994292462113,
         3.166666667388611E11,
         1.135
        ],
        [
         "J519_1898066",
         -0.18280652305214407,
         3.5000000005890814E11,
         0.8069565217391305
        ],
        [
         "J519_297401",
         -0.27623789387532405,
         67.03721920780744,
         1.33289972899729
        ],
        [
         "J519_498204002",
         0.08057527024286759,
         90.80343827356212,
         0.9138536585365854
        ],
        [
         "J519_1433081",
         -0.6228600950609631,
         40.76601673628132,
         1.084768115942029
        ],
        [
         "J519_264584",
         -0.38193066923447283,
         32.53749649915661,
         1.0313163481953291
        ],
        [
         "J519_498381001",
         -0.4125891038696534,
         1.3333333338673926E11,
         0.8354035087719298
        ],
        [
         "J519_1884984",
         0.070698556527236,
         51.88260600936433,
         1.0167901234567902
        ],
        [
         "J519_264983",
         -0.44333733158526045,
         3.276666666714058E12,
         1.339221411192214
        ],
        [
         "J519_498032007",
         -0.22559442677570796,
         58.43348125777793,
         0.8976190476190475
        ],
        [
         "J519_1650313001",
         -0.328495260663507,
         5.666666667212223E11,
         0.9420903954802261
        ],
        [
         "J519_1775056",
         -0.6773104458184183,
         38.40854911623969,
         1.00993006993007
        ],
        [
         "J519_1824084",
         -0.13092399403874788,
         58.77142857142857,
         0.725
        ],
        [
         "J519_1813711",
         -0.3931730551145387,
         1.3333333338047884E11,
         1.005026455026455
        ],
        [
         "J519_303359",
         -0.2516513761467891,
         59.410485810485824,
         1.087149758454106
        ],
        [
         "J519_707082003",
         -0.12909891598916,
         94.80555555555557,
         0.7445192307692308
        ],
        [
         "J519_1225946",
         -0.1063689334710134,
         5.3333333337551105E11,
         0.8323060796645703
        ],
        [
         "J519_271434",
         -0.7100633356790993,
         2.666666667218055E11,
         0.8767441860465116
        ],
        [
         "J519_498034006",
         -0.4473405480082888,
         1.3333333339982173E11,
         0.8875757575757576
        ],
        [
         "J519_1842109",
         -0.06332764769731725,
         4.500000000723453E11,
         0.9878125000000001
        ],
        [
         "J519_270241",
         -0.5837488240827844,
         67.57962962962962,
         1.0114634146341464
        ],
        [
         "J519_407611004",
         0.27119414483821247,
         59.4881586006586,
         0.7529357798165137
        ],
        [
         "J519_1261606",
         -0.4829827197595793,
         7.333333333778013E11,
         0.678525641025641
        ],
        [
         "J519_1624076",
         -0.45055559252112554,
         101.20613553113553,
         0.9981029810298103
        ],
        [
         "J519_498244002",
         0.41874399914654514,
         32.09092881311497,
         0.6044650205761316
        ],
        [
         "J519_1558648",
         0.6661325063778433,
         14.333956328675319,
         0.524790378006873
        ],
        [
         "J519_1637352",
         -0.07251521298174457,
         1.1666666676371495E11,
         0.9004566210045662
        ],
        [
         "J519_992982004",
         -0.5932752343453975,
         6.290000000071204E12,
         3.2237751004016064
        ],
        [
         "J519_1624835",
         -0.256578947368421,
         1.6666666675128305E11,
         0.8055555555555556
        ],
        [
         "J519_264573",
         0.035957241227479675,
         33.820351308845105,
         0.7920785804816224
        ],
        [
         "J519_498216004",
         -0.18666965888689435,
         8.333333337953452E10,
         0.776628787878788
        ],
        [
         "J519_1083962",
         -0.24095328737524468,
         32.47739418467525,
         0.858102564102564
        ],
        [
         "J519_1650313005",
         -0.21731787244769363,
         1.000000000811858E11,
         0.8435534591194969
        ],
        [
         "J519_993550",
         -1.9034353348729791,
         80.55555555555556,
         1.2439890710382513
        ],
        [
         "J519_1866744",
         -0.761634298277758,
         1.5000000005492462E11,
         0.9102777777777777
        ],
        [
         "J519_270513",
         -0.03831282952548354,
         53.661375661375665,
         0.9118407960199006
        ],
        [
         "J519_498077007",
         -0.7411843158175515,
         103.10714285714286,
         1.2139102564102564
        ],
        [
         "J519_1793564",
         0.11478495336018624,
         27.20862452366102,
         0.8974447949526814
        ],
        [
         "J519_264758",
         -0.9345331069609508,
         75.35340884605591,
         1.1561842105263158
        ],
        [
         "J519_992981003",
         -1.1482498052072154,
         47.128779671526885,
         1.308020833333333
        ],
        [
         "J519_1727214",
         -0.13594890510948887,
         4.333333333660277E11,
         0.8055555555555555
        ],
        [
         "J519_1775576006",
         -0.24747543668122285,
         40.7143350979298,
         0.751025641025641
        ],
        [
         "J519_256748",
         0.20891081693410984,
         23.96351196187666,
         0.8657352941176473
        ],
        [
         "J519_1574175",
         -0.7777928969927881,
         5.500000000839114E11,
         1.4666666666666666
        ],
        [
         "J519_1630220002",
         -0.7523585766423357,
         67.01268638768639,
         1.241794871794872
        ],
        [
         "J519_990076",
         -2.4152015604681405,
         5.633333333983527E11,
         1.878095238095238
        ],
        [
         "J519_1801136",
         -0.39670847284490063,
         77.20016095016095,
         0.8656716417910448
        ],
        [
         "J519_1842168",
         -0.7878644314868801,
         5.166666667429245E11,
         1.1000666666666667
        ],
        [
         "J519_893161010",
         -0.5406584276664241,
         94.57926332926333,
         0.9471380471380472
        ],
        [
         "J519_1724538",
         -0.3676851087255708,
         4.666666667267246E11,
         0.9175820379965458
        ],
        [
         "J519_255276",
         -0.5775749674054762,
         72.4047619047619,
         0.7666666666666667
        ],
        [
         "J519_267099",
         -0.28074753804834374,
         52.27980713816629,
         0.9173469387755103
        ],
        [
         "J519_263196",
         -0.07002858309514104,
         2.000000001044699E11,
         0.8551282051282051
        ],
        [
         "J519_501664004",
         -0.3776307363927427,
         42.29400691900692,
         1.012542372881356
        ],
        [
         "J519_606381",
         -0.06870860927152322,
         1.4000000000378853E12,
         0.9263888888888888
        ],
        [
         "J519_1763677",
         0.09741782491271977,
         23.85317575676247,
         0.9523890234059726
        ],
        [
         "J519_275420",
         -0.07805574523558256,
         95.66952165481577,
         0.8630952380952381
        ],
        [
         "J519_302766",
         0.3032329626123994,
         30.312064527263477,
         0.729193302891933
        ],
        [
         "J519_264981",
         -0.3648325358851676,
         36.29770253396414,
         0.7522902494331065
        ],
        [
         "J519_552049001",
         -0.7960966542750934,
         1.6666666675773413E11,
         0.9857276995305166
        ],
        [
         "J519_930051",
         -0.44564075630252087,
         3.000000000519166E11,
         0.7787037037037037
        ],
        [
         "J519_1885823",
         0.37524357318934154,
         24.530398146458516,
         0.6886008230452674
        ],
        [
         "J519_266004",
         -0.2246198885636035,
         4.0000000006456366E11,
         1.3272486772486771
        ],
        [
         "J519_401513",
         -0.2534431137724551,
         1.3333333343779416E11,
         0.9876305220883533
        ],
        [
         "J519_1646037",
         -1.091953441295547,
         8.33333334249262E10,
         0.9721383647798741
        ],
        [
         "J519_263376",
         -0.803861788617886,
         4.666666667262777E11,
         1.3140625
        ],
        [
         "J519_270480",
         -0.31548637092463916,
         91.76828726828725,
         1.0203703703703704
        ],
        [
         "J519_1125828",
         -1.7656372677309609,
         59.77344877344877,
         1.1640845070422536
        ],
        [
         "J519_267629",
         -2.6805222448734862,
         62.662009635954654,
         1.684516765285996
        ],
        [
         "J519_911694",
         -0.3706819313091092,
         5.166666667124166E11,
         0.7634693877551021
        ],
        [
         "J519_1829132003",
         -0.21961656966792176,
         1.666666667371389E11,
         0.9956666666666667
        ],
        [
         "J519_260783",
         -0.43367054079696365,
         38.587262248941855,
         0.8754529914529915
        ],
        [
         "J519_261074",
         0.46982850318645675,
         17.884848813674132,
         0.5330558308556326
        ],
        [
         "J519_1901690",
         -0.41306005719732997,
         5.266666667101944E11,
         1.2528
        ],
        [
         "J519_260813",
         -0.9610847249885095,
         74.19696969696969,
         1.069672131147541
        ],
        [
         "J519_271192",
         -0.13828817092235535,
         96.65420227920228,
         0.796985815602837
        ],
        [
         "J519_1259964",
         -0.16216882375333097,
         19.927469649535475,
         1.007644927536232
        ],
        [
         "J519_1447891",
         -0.49392261529790105,
         51.15413521663521,
         1.1108994708994708
        ],
        [
         "J519_267662",
         -7.668711656441118E-4,
         1.6666666672094046E11,
         0.661029411764706
        ],
        [
         "J519_1873525",
         0.4078834590212951,
         43.64331636429159,
         0.6364429530201343
        ],
        [
         "J519_270479",
         -0.19890803203106056,
         1.3333333340368915E11,
         0.8933870967741936
        ],
        [
         "J519_713795",
         -0.28574366004112406,
         2.0666666673740802E11,
         0.8808266666666666
        ],
        [
         "J519_1808006",
         -1.0555416248746239,
         63.91209716209716,
         1.1926406926406925
        ],
        [
         "J519_267626",
         -0.08430949445129476,
         57.393286623443,
         1.016324200913242
        ],
        [
         "J519_509025",
         -0.3244867381559722,
         42.90857498728128,
         0.9610951008645534
        ],
        [
         "J519_1483550",
         -0.1074858757062147,
         1.4333333334133257E12,
         0.8374031007751938
        ],
        [
         "J519_1790810",
         -0.567035800970874,
         36.5935093773329,
         1.0030363036303631
        ],
        [
         "J519_260774",
         -0.1355896126011067,
         25.213468196602328,
         0.9957765151515151
        ],
        [
         "J519_1121595",
         -1.14291097266881,
         8.333333340045508E10,
         1.4218446601941745
        ],
        [
         "J519_1822534",
         -2.672291023748827,
         32.95404372765811,
         1.3213230994152045
        ],
        [
         "J519_264768",
         -0.2633262260127931,
         4.666666667321389E11,
         0.8434640522875817
        ],
        [
         "J519_1279451",
         -0.5531902651891596,
         22.121879926495158,
         1.1800515995872034
        ],
        [
         "J519_1801327",
         -0.5019305348391219,
         129.05252838948493,
         1.027719298245614
        ],
        [
         "J519_272183",
         -1.2269417475728153,
         5.333333333901388E11,
         1.030263157894737
        ],
        [
         "J519_1713078",
         -1.4694790168240663,
         63.75698375698374,
         1.2622131147540985
        ],
        [
         "J519_1773432",
         -0.9242424242424243,
         4.833333333986111E11,
         1.3694444444444445
        ],
        [
         "J519_297427",
         -2.1369088673643812,
         77.43084595020449,
         1.5111368653421633
        ],
        [
         "J519_1746566",
         -0.27137105629163316,
         1.0100000000785936E12,
         1.4607407407407407
        ],
        [
         "J519_1786934",
         -0.20750000000000024,
         6.666666666960555E11,
         0.7113207547169811
        ],
        [
         "J519_256053",
         -0.06919435889123027,
         59.86204587895764,
         0.8276725838264299
        ],
        [
         "J519_1444579",
         -0.38192728556300737,
         1.5000000005367862E11,
         1.0916666666666666
        ],
        [
         "J519_1870154",
         -10.625,
         1.3666666667933333E12,
         2.666129032258065
        ],
        [
         "J519_260695",
         -0.10401586859688194,
         2.350000000034233E12,
         1.2801801801801802
        ],
        [
         "J519_120480",
         -0.6404627539503378,
         1.6666666674103464E11,
         1.4379166666666665
        ],
        [
         "J519_288645",
         -0.17841082317073198,
         4.566666667569895E11,
         1.1541056910569107
        ],
        [
         "J519_297358",
         -0.27236929185969583,
         3.166666667710582E11,
         1.0815458937198066
        ],
        [
         "J519_267558",
         -0.15452328815766103,
         27.081199672344408,
         0.9453145917001337
        ],
        [
         "J519_330631",
         -0.8416645194537489,
         6.833333334195555E11,
         1.3677304964539008
        ],
        [
         "J519_764300",
         -0.19465502061998974,
         43.67591976130616,
         0.9539890710382515
        ],
        [
         "J519_271840",
         -0.7121396054628222,
         1.0000000004371826E11,
         0.9443589743589742
        ],
        [
         "J519_547513",
         -0.18790296452292243,
         1.3566666667216077E12,
         1.0292657856093979
        ],
        [
         "J519_572003",
         -0.06190150478796186,
         5.1666666671893604E11,
         0.7693877551020408
        ],
        [
         "J519_1667025",
         -0.4515137872819359,
         40.227046102046096,
         0.828705501618123
        ],
        [
         "J519_1793567",
         -0.3037536443148683,
         1.3333333339452779E11,
         0.6934782608695651
        ],
        [
         "J519_1845718",
         -0.2905334728033475,
         1.1666666674285185E11,
         0.8032863849765258
        ],
        [
         "J519_1616608",
         -0.5012605042016804,
         5.833333333989155E11,
         0.7193798449612404
        ],
        [
         "J519_1666731",
         -0.027638190954773822,
         69.61111111111113,
         0.7368852459016394
        ],
        [
         "J519_1752545",
         -0.1643109540636043,
         4.833333333870516E11,
         0.7511261261261261
        ],
        [
         "J519_1553714",
         -0.7354157303370785,
         52.68281995781996,
         1.297204301075269
        ],
        [
         "J519_1755631",
         -2.0246905940594058,
         1.3633333333735278E12,
         2.3161333333333336
        ],
        [
         "J519_1770673",
         -0.04676895839480677,
         7.500000000323611E11,
         1.1032608695652173
        ],
        [
         "J519_1457110",
         -0.4858815426997243,
         2.3333333340788885E11,
         0.8122685185185184
        ],
        [
         "J519_1629080",
         -0.3261978842563782,
         1.6666666672542987E11,
         1.08025
        ],
        [
         "J519_1865644",
         -0.38915315315315313,
         108.08095238095238,
         0.9366666666666666
        ],
        [
         "J519_266029",
         -0.006459986493331016,
         74.08927553927555,
         0.9411226252158895
        ],
        [
         "J519_267502",
         -2.2388695209369747,
         41.69486857425498,
         1.3358124999999998
        ],
        [
         "J519_296640",
         -0.44814190304172263,
         4.1666666672775696E11,
         1.0716666666666665
        ],
        [
         "J519_1651441002",
         -0.0282106874123198,
         1.0000000010641666E11,
         0.9328333333333333
        ],
        [
         "J519_672586002",
         -0.03442335300685917,
         56.0534188034188,
         0.7704477611940299
        ],
        [
         "J519_1836029002",
         -0.025856320096999008,
         1.0400000000255123E12,
         0.8715466666666666
        ],
        [
         "J519_1819821002",
         0.07355108055009829,
         2.3333333338848785E11,
         0.6911214953271028
        ],
        [
         "J519_1761141",
         -0.604754816721152,
         37.15009584499035,
         1.0464166666666666
        ],
        [
         "J519_1829954003",
         -0.49693541300527255,
         2.6000000004456912E11,
         0.8315123456790123
        ],
        [
         "J519_1820197",
         0.023911745798512296,
         30.13646421337029,
         0.9451204819277107
        ],
        [
         "J519_498071003",
         -0.684579109978861,
         9.333333334258846E11,
         1.9607462686567165
        ],
        [
         "J519_1337092",
         -1.8373399999999998,
         50.341329966329965,
         1.3868981481481482
        ],
        [
         "J519_1542756",
         -0.1662796269263771,
         22.77386699232954,
         0.7954194260485651
        ],
        [
         "J519_1873792",
         0.011537799207852695,
         2.3333333343110114E11,
         0.7552083333333334
        ],
        [
         "J519_1894042",
         -0.3761581733951027,
         5.833333333932181E11,
         1.0836021505376345
        ],
        [
         "J519_1667252",
         -0.8056801866475232,
         53.607896732896734,
         0.8536290322580645
        ],
        [
         "J519_1858321",
         0.15517237138253792,
         43.18289511732884,
         1.2388596491228072
        ],
        [
         "J519_498217002",
         -0.8660545891983071,
         46.7612012987013,
         1.0372659176029961
        ],
        [
         "J519_1836622",
         -0.16111053772319117,
         2.3333333341393503E11,
         0.8843971631205675
        ],
        [
         "J519_886615",
         -0.37975949133800246,
         98.24956806319204,
         1.1754192229038856
        ],
        [
         "J519_1843490",
         -0.1582089552238808,
         2.3333333340801434E11,
         0.8336200716845878
        ],
        [
         "J519_269303",
         -0.3788428199942211,
         3.000000000512511E11,
         1.583952380952381
        ],
        [
         "J519_1742830",
         0.028449109239055304,
         1.8333333341714218E11,
         0.7595238095238096
        ],
        [
         "J519_269489",
         -0.3639648233715904,
         24.476965973426967,
         0.7359139784946236
        ],
        [
         "J519_1864599",
         -0.572909556313993,
         3.6666666671656055E11,
         1.2832234432234433
        ],
        [
         "J519_269305",
         -0.6776207629075459,
         35.58694119628296,
         1.178165548098434
        ],
        [
         "J519_1637353",
         0.02493567753001713,
         3.50000000066463E11,
         0.842611111111111
        ],
        [
         "J519_264984",
         -0.2607660350592764,
         7.000000000938572E11,
         1.2114718614718614
        ],
        [
         "J519_1836231",
         -1.1955909943714822,
         44.22483951424869,
         1.5002666666666666
        ],
        [
         "J519_972044",
         -0.655524970507275,
         2.1666666671817194E11,
         1.0007843137254901
        ],
        [
         "J519_1652674",
         0.2564043000542593,
         46.23835675684856,
         0.7276737588652482
        ],
        [
         "J519_263716",
         -0.278270810003733,
         101.32522819248824,
         1.191849710982659
        ],
        [
         "J519_1660623",
         -0.3466291109022175,
         87.09706581767281,
         1.0408792650918635
        ],
        [
         "J519_473754",
         0.018585280954748984,
         46.63267979080138,
         0.8440526315789475
        ],
        [
         "J519_120629",
         -0.757198952879581,
         1.5000000008696033E11,
         1.2340425531914894
        ],
        [
         "J519_1871251001",
         -0.6738973246565441,
         50.791305916305916,
         0.9114285714285715
        ],
        [
         "J519_1755851",
         0.13092543791660172,
         28.697697996917114,
         0.7022289766970619
        ],
        [
         "J519_271266",
         -0.6771759730597535,
         1.6533333336218367E12,
         1.48447983014862
        ],
        [
         "J519_1729727",
         -0.44078296703296704,
         78.02143227143226,
         0.8654509803921568
        ],
        [
         "J519_526658",
         -2.1139435325016414,
         62.02113599214083,
         1.8145292620865139
        ],
        [
         "J519_1476043",
         5.837522296090469E-4,
         61.10636484207087,
         1.4762380952380951
        ],
        [
         "J519_270844",
         -0.43131660364386426,
         2.833333333930635E11,
         1.0864492753623187
        ],
        [
         "J519_1660562",
         -0.5618700265251988,
         53.16795874690611,
         0.9771739130434783
        ],
        [
         "J519_297359",
         -0.34027881158140416,
         1.5000000008706732E11,
         0.9493162393162393
        ],
        [
         "J519_1796062",
         -0.3790755280971849,
         18.38635589579188,
         0.7126797385620917
        ],
        [
         "J519_298136",
         0.43919006015468354,
         28.134042689687856,
         0.7020361990950226
        ],
        [
         "J519_1750890",
         0.693598281684931,
         2.333333333836072E11,
         0.47530401737242134
        ],
        [
         "J519_939095",
         -0.18370076561202842,
         4.6666666675353784E11,
         0.9611111111111111
        ],
        [
         "J519_1843821",
         -0.26959459459459456,
         8.33333334051951E10,
         0.9417676767676766
        ],
        [
         "J519_288644",
         -0.01784459195626731,
         2.3333333339546033E11,
         0.8921527777777777
        ],
        [
         "J519_1599633",
         -0.2195379700172031,
         71.81853088432035,
         1.164647435897436
        ],
        [
         "J519_254451",
         0.6715259694627229,
         25.70926422036075,
         0.4795521541950114
        ],
        [
         "J519_1883864",
         -1.093489956958393,
         1.3333333338573567E11,
         1.0839555555555556
        ],
        [
         "J519_265915",
         -0.47140381282495714,
         8.33333333766111E10,
         0.9465277777777777
        ],
        [
         "J519_266687",
         -0.5367152027555975,
         3.333333334039506E11,
         1.282312925170068
        ],
        [
         "J519_498230001",
         -0.5350730688935281,
         1.1666666674727779E11,
         0.7592727272727273
        ],
        [
         "J519_302509",
         -0.595176432502428,
         1.0166666667227777E12,
         1.5604761904761906
        ],
        [
         "J519_498035002",
         -0.011825842696629119,
         2.8333333339243176E11,
         0.6674113475177306
        ],
        [
         "J519_614712",
         -0.7052474755835128,
         2.3333333345062698E11,
         1.3241509433962264
        ],
        [
         "J519_989736",
         -0.16643084541917208,
         2.3333333339530557E11,
         0.7699612403100774
        ],
        [
         "J519_256208",
         -0.6412358882947122,
         80.42460317460319,
         0.7647407407407406
        ],
        [
         "J519_886614",
         -0.06700538008988333,
         45.32432187123748,
         1.0725735294117646
        ],
        [
         "J519_260348",
         -0.7095214141994826,
         6.333333333998605E11,
         1.2209
        ],
        [
         "J519_303376",
         -0.46529401067927467,
         42.25010126786406,
         1.2262714776632306
        ],
        [
         "J519_260621",
         0.2454321121137466,
         3.2966666676505376E12,
         0.6792156079371423
        ],
        [
         "J519_297342",
         -1.004206673842842,
         52.210078810078784,
         0.9878303747534516
        ],
        [
         "J519_780388",
         0.242395462921,
         20.2164326975994,
         0.8255608214849921
        ],
        [
         "J519_988830",
         -0.39845369583687296,
         2.3333333337540646E11,
         0.8909638554216867
        ],
        [
         "J519_260589",
         -0.3230578358742602,
         4.166666667218353E11,
         1.2887244897959185
        ],
        [
         "J519_987945",
         -0.10119897230944885,
         70.73358585858588,
         0.7913398692810457
        ],
        [
         "J519_255679",
         -0.5636879215205395,
         47.74201261701263,
         0.8624814814814815
        ],
        [
         "J519_271617",
         -1.247292418772564,
         2.666666667420516E11,
         1.0224358974358974
        ],
        [
         "J519_729574",
         -0.09668425018839466,
         2.3333333338137506E11,
         0.8813725490196079
        ],
        [
         "J519_915897",
         -0.005696282583449452,
         29.378212490898992,
         0.9335458167330678
        ],
        [
         "J519_302975",
         -0.7635615133369624,
         117.9695165945166,
         1.1346601941747574
        ],
        [
         "J519_439750",
         -0.3132022471910112,
         3.166666667372778E11,
         0.8941666666666667
        ],
        [
         "J519_120573",
         -0.2664807302231238,
         1.0000000005449208E11,
         0.7534313725490196
        ],
        [
         "J519_988831",
         -2.621523579201934,
         7.500000001681111E11,
         1.6626666666666667
        ],
        [
         "J519_260395",
         0.3654355097718841,
         1.086666666717136E12,
         0.7750203606748112
        ],
        [
         "J519_269292",
         -0.6371099917299454,
         1.5000000006138E11,
         1.2867407407407407
        ],
        [
         "J519_254891",
         -0.1709208400646205,
         7.666666667265833E11,
         0.9214718614718614
        ],
        [
         "J519_298185",
         -0.2951519536903038,
         78.50389545095429,
         0.9399457994579945
        ],
        [
         "J519_1651045",
         0.33900115473441106,
         33.486465024508504,
         0.6932812500000001
        ],
        [
         "J519_1821518",
         -1.0276162790697674,
         8.333333333827778E11,
         1.403225806451613
        ],
        [
         "J519_1050096",
         -0.11665626949469754,
         7.166666667223507E11,
         1.0011904761904762
        ],
        [
         "J519_1863083",
         -0.12176731122393858,
         2.660000000105726E12,
         1.165296803652968
        ],
        [
         "J519_1504130",
         -2.457159793814433,
         5.000000008368372E10,
         1.8450724637681157
        ],
        [
         "J519_1794577",
         -0.9671327493261452,
         3.933333334719716E11,
         1.4039682539682539
        ],
        [
         "J519_1428657",
         -0.6215018465326221,
         6.000000001088239E11,
         1.4450427350427353
        ],
        [
         "J519_1437535",
         0.08691669450941109,
         41.17420237707578,
         0.8582749326145552
        ],
        [
         "J519_1680635",
         0.3813486060082125,
         82.28674566174566,
         0.7602430555555556
        ],
        [
         "J519_1806579",
         -0.23733951497860195,
         1.1333333333819385E12,
         0.6676975945017183
        ],
        [
         "J519_1610160",
         -0.84819897084048,
         3.333333333959722E11,
         0.8778911564625851
        ],
        [
         "J519_1672652",
         -0.2513093289689037,
         2.1666666673449207E11,
         0.7533333333333334
        ],
        [
         "J519_1651054",
         0.0010736196319016678,
         4.0000000007898413E11,
         0.6743650793650793
        ],
        [
         "J519_1560731",
         0.17987466611875902,
         3.166666667183458E11,
         0.8204878048780488
        ],
        [
         "J519_1868971",
         -1.1296448790530103,
         3.3333333342403455E11,
         1.102763157894737
        ],
        [
         "J519_1897405",
         -0.9777242624924745,
         7.166666667086945E11,
         1.2704761904761905
        ],
        [
         "J519_1433845",
         0.03589109193108864,
         6.700000000574917E11,
         0.6878205128205128
        ],
        [
         "J519_1473035",
         0.6630476693581633,
         12.700300484097049,
         0.5091848768643774
        ],
        [
         "J519_1730196",
         -0.24634213912919112,
         1.3333333334050078E12,
         0.8993757361601885
        ],
        [
         "J519_1542761",
         -0.3423843782117164,
         3.500000000749742E11,
         0.7272480620155038
        ],
        [
         "J519_1818593",
         -0.6552067526555392,
         1.33333333390638E11,
         1.082465277777778
        ],
        [
         "J519_1801137",
         -0.2389042692699983,
         61.56866281866281,
         0.9255643044619422
        ],
        [
         "J519_1650343",
         -0.16817155756207636,
         4.1666666670763885E11,
         0.9528571428571428
        ],
        [
         "J519_1024379",
         -0.06917081416095416,
         5.000000000754632E11,
         0.7965333333333333
        ],
        [
         "J519_1542758",
         0.21664954401049485,
         63.725692019891554,
         0.9329100529100529
        ],
        [
         "J519_1448697",
         -0.475695641467619,
         5.000000005823017E10,
         1.1894202898550725
        ],
        [
         "J519_260351",
         0.08674286979505419,
         1.6333333333769114E12,
         0.7959040880503142
        ],
        [
         "J519_260461",
         -0.06675359116022084,
         4.8333333340024603E11,
         0.7769949494949494
        ],
        [
         "J519_302915",
         -0.3837569019688041,
         1.85000000006006E12,
         0.9736378205128206
        ],
        [
         "J519_260965",
         -1.376191633295751,
         44.799563540152256,
         1.308852657004831
        ],
        [
         "J519_263611",
         -0.2901791044776123,
         3.3333333397789104E10,
         0.8838095238095237
        ],
        [
         "J519_255246",
         -0.1310321715817695,
         51.085125060125044,
         0.7809363295880151
        ],
        [
         "J519_113746",
         -0.3200772652774526,
         52.25305070603058,
         1.0460714285714285
        ],
        [
         "J519_173725",
         -0.15883807169344877,
         2.1666666673214288E11,
         0.8028248587570622
        ],
        [
         "J519_717547",
         -0.40056148630399857,
         30.228651096543246,
         1.17838768115942
        ],
        [
         "J519_270230",
         -0.4887524408765458,
         42.65567813828683,
         1.1666996699669967
        ],
        [
         "J519_267217",
         -0.13497773120251488,
         56.23639666125617,
         1.0819883040935672
        ],
        [
         "J519_975081",
         -0.017735204855841902,
         3.1666666680909064E11,
         1.1460734463276836
        ],
        [
         "J519_610556",
         -0.8880737943056358,
         9.500000001219211E11,
         1.3694444444444445
        ],
        [
         "J519_267553",
         -0.46059322033898287,
         1.3333333339524832E11,
         0.7661347517730497
        ],
        [
         "J519_503951",
         -0.975846613545817,
         46.384920634920626,
         0.9817708333333333
        ],
        [
         "J519_438964",
         0.2127949538629167,
         78.62248938402783,
         0.7513636363636363
        ],
        [
         "J519_263234",
         0.28524639725889345,
         7.333333333856898E11,
         0.8055555555555556
        ],
        [
         "J519_263722",
         -0.4189987709954939,
         1.6666666722145409E10,
         1.0847567567567569
        ],
        [
         "J519_272191",
         -0.24721913236929938,
         6.666666674782937E10,
         1.0826666666666667
        ],
        [
         "J519_267564",
         0.4399002130955336,
         30.98994229617173,
         0.7845149253731344
        ],
        [
         "J519_260384",
         -0.18685578330893104,
         1.1600000000397827E12,
         1.2146376811594202
        ]
       ],
       "datasetInfos": [],
       "dbfsResultPath": null,
       "isJsonSchema": true,
       "metadata": {
        "dataframeName": "_sqldf",
        "executionCount": 19
       },
       "overflow": false,
       "plotOptions": {
        "customPlotOptions": {},
        "displayType": "table",
        "pivotAggregation": null,
        "pivotColumns": null,
        "xColumns": null,
        "yColumns": null
       },
       "removedWidgets": [],
       "schema": [
        {
         "metadata": "{}",
         "name": "unique_id",
         "type": "\"string\""
        },
        {
         "metadata": "{}",
         "name": "r2",
         "type": "\"double\""
        },
        {
         "metadata": "{}",
         "name": "mape",
         "type": "\"double\""
        },
        {
         "metadata": "{}",
         "name": "mase",
         "type": "\"double\""
        }
       ],
       "type": "table"
      }
     },
     "output_type": "display_data"
    },
    {
     "output_type": "display_data",
     "data": {
      "text/plain": [
       "Databricks visualization. Run in Databricks to view."
      ]
     },
     "metadata": {
      "application/vnd.databricks.v1.subcommand+json": {
       "baseErrorDetails": null,
       "bindings": {},
       "collapsed": false,
       "command": "%sql WITH q AS (select *\nfrom dev.df_forecastu_chronos_small_metrics) ,min_max AS (SELECT `r2`,(SELECT MAX(`r2`) FROM q) `target_column_max`,(SELECT MIN(`r2`) FROM q) `target_column_min` FROM q) ,histogram_meta AS (SELECT `r2`,`target_column_min` `min_value`,IF(`target_column_max` = `target_column_min`,`target_column_max` + 1,`target_column_max`) `max_value`,(`target_column_max` - `target_column_min`) / 100 `step` FROM min_max) SELECT IF(ISNULL(`r2`),NULL,LEAST(WIDTH_BUCKET(`r2`,`min_value`,`max_value`,100),100)) `r2_BIN`,FIRST(`min_value` + ((IF(ISNULL(`r2`),NULL,LEAST(WIDTH_BUCKET(`r2`,`min_value`,`max_value`,100),100)) - 1) * `step`)) `r2_BIN_LOWER_BOUND`,FIRST(`step`) `r2_BIN_STEP`,COUNT(`r2`) `COUNT` FROM histogram_meta GROUP BY `r2_BIN`",
       "commandTitle": "r2",
       "commandType": "auto",
       "commandVersion": 0,
       "commentThread": [],
       "commentsVisible": false,
       "contentSha256Hex": null,
       "customPlotOptions": {
        "redashChart": [
         {
          "key": "type",
          "value": "CHART"
         },
         {
          "key": "options",
          "value": {
           "alignYAxesAtZero": true,
           "coefficient": 1,
           "columnConfigurationMap": {
            "x": {
             "column": "r2",
             "id": "column_2e816e983"
            }
           },
           "dateTimeFormat": "DD/MM/YYYY HH:mm",
           "direction": {
            "type": "counterclockwise"
           },
           "error_y": {
            "type": "data",
            "visible": true
           },
           "globalSeriesType": "histogram",
           "isAggregationOn": true,
           "legend": {
            "traceorder": "normal"
           },
           "missingValuesAsZero": true,
           "numBins": 100,
           "numberFormat": "0,0.[00000]",
           "percentFormat": "0[.]00%",
           "series": {
            "error_y": {
             "type": "data",
             "visible": true
            },
            "stacking": null
           },
           "seriesOptions": {},
           "showDataLabels": false,
           "sizemode": "diameter",
           "sortX": true,
           "sortY": true,
           "swappedAxes": false,
           "textFormat": "",
           "useAggregationsUi": true,
           "valuesOptions": {},
           "version": 2,
           "xAxis": {
            "labels": {
             "enabled": true
            },
            "type": "-"
           },
           "yAxis": [
            {
             "type": "-"
            },
            {
             "opposite": true,
             "type": "-"
            }
           ]
          }
         }
        ]
       },
       "datasetPreviewNameToCmdIdMap": {},
       "diffDeletes": [],
       "diffInserts": [],
       "displayType": "redashChart",
       "error": null,
       "errorDetails": null,
       "errorSummary": null,
       "errorTraceType": null,
       "finishTime": 0,
       "globalVars": {},
       "guid": "",
       "height": "auto",
       "hideCommandCode": false,
       "hideCommandResult": false,
       "iPythonMetadata": null,
       "inputWidgets": {},
       "isLockedInExamMode": false,
       "latestUser": "a user",
       "latestUserId": null,
       "listResultMetadata": null,
       "metadata": {},
       "nuid": "5255e398-ee06-4afd-95d9-42f8add301f9",
       "origId": 0,
       "parentHierarchy": [],
       "pivotAggregation": null,
       "pivotColumns": null,
       "position": 25.2177734375,
       "resultDbfsErrorMessage": null,
       "resultDbfsStatus": "INLINED_IN_TREE",
       "results": null,
       "showCommandTitle": false,
       "startTime": 0,
       "state": "input",
       "streamStates": {},
       "subcommandOptions": {
        "queryPlan": {
         "groups": [
          {
           "column": "r2_BIN",
           "type": "column"
          }
         ],
         "selects": [
          {
           "alias": "r2_BIN",
           "args": [
            {
             "column": "r2",
             "type": "column"
            },
            {
             "number": 100,
             "type": "number"
            }
           ],
           "function": "BIN",
           "type": "function"
          },
          {
           "alias": "r2_BIN_LOWER_BOUND",
           "args": [
            {
             "column": "r2",
             "type": "column"
            },
            {
             "number": 100,
             "type": "number"
            }
           ],
           "function": "BIN_LOWER_BOUND",
           "type": "function"
          },
          {
           "alias": "r2_BIN_STEP",
           "args": [
            {
             "column": "r2",
             "type": "column"
            },
            {
             "number": 100,
             "type": "number"
            }
           ],
           "function": "BIN_STEP",
           "type": "function"
          },
          {
           "alias": "COUNT",
           "args": [
            {
             "column": "r2",
             "type": "column"
            }
           ],
           "function": "COUNT",
           "type": "function"
          }
         ]
        }
       },
       "submitTime": 0,
       "subtype": "tableResultSubCmd.visualization",
       "tableResultIndex": 0,
       "tableResultSettingsMap": null,
       "useConsistentColors": false,
       "version": "CommandV1",
       "width": "auto",
       "workflows": [],
       "xColumns": null,
       "yColumns": null
      }
     },
     "output_type": "display_data"
    },
    {
     "output_type": "display_data",
     "data": {
      "text/plain": [
       "Databricks visualization. Run in Databricks to view."
      ]
     },
     "metadata": {
      "application/vnd.databricks.v1.subcommand+json": {
       "baseErrorDetails": null,
       "bindings": {},
       "collapsed": false,
       "command": "%sql WITH q AS (select *\nfrom dev.df_forecastu_chronos_small_metrics) ,min_max AS (SELECT `mase`,(SELECT MAX(`mase`) FROM q) `target_column_max`,(SELECT MIN(`mase`) FROM q) `target_column_min` FROM q) ,histogram_meta AS (SELECT `mase`,`target_column_min` `min_value`,IF(`target_column_max` = `target_column_min`,`target_column_max` + 1,`target_column_max`) `max_value`,(`target_column_max` - `target_column_min`) / 100 `step` FROM min_max) SELECT IF(ISNULL(`mase`),NULL,LEAST(WIDTH_BUCKET(`mase`,`min_value`,`max_value`,100),100)) `mase_BIN`,FIRST(`min_value` + ((IF(ISNULL(`mase`),NULL,LEAST(WIDTH_BUCKET(`mase`,`min_value`,`max_value`,100),100)) - 1) * `step`)) `mase_BIN_LOWER_BOUND`,FIRST(`step`) `mase_BIN_STEP`,COUNT(`mase`) `COUNT` FROM histogram_meta GROUP BY `mase_BIN`",
       "commandTitle": "mase",
       "commandType": "auto",
       "commandVersion": 0,
       "commentThread": [],
       "commentsVisible": false,
       "contentSha256Hex": null,
       "customPlotOptions": {
        "redashChart": [
         {
          "key": "type",
          "value": "CHART"
         },
         {
          "key": "options",
          "value": {
           "alignYAxesAtZero": true,
           "coefficient": 1,
           "columnConfigurationMap": {
            "x": {
             "column": "mase",
             "id": "column_2e816e985"
            }
           },
           "dateTimeFormat": "DD/MM/YYYY HH:mm",
           "direction": {
            "type": "counterclockwise"
           },
           "error_y": {
            "type": "data",
            "visible": true
           },
           "globalSeriesType": "histogram",
           "isAggregationOn": true,
           "legend": {
            "traceorder": "normal"
           },
           "missingValuesAsZero": true,
           "numBins": 100,
           "numberFormat": "0,0.[00000]",
           "percentFormat": "0[.]00%",
           "series": {
            "error_y": {
             "type": "data",
             "visible": true
            },
            "stacking": null
           },
           "seriesOptions": {},
           "showDataLabels": false,
           "sizemode": "diameter",
           "sortX": true,
           "sortY": true,
           "swappedAxes": false,
           "textFormat": "",
           "useAggregationsUi": true,
           "valuesOptions": {},
           "version": 2,
           "xAxis": {
            "labels": {
             "enabled": true
            },
            "type": "-"
           },
           "yAxis": [
            {
             "type": "-"
            },
            {
             "opposite": true,
             "type": "-"
            }
           ]
          }
         }
        ]
       },
       "datasetPreviewNameToCmdIdMap": {},
       "diffDeletes": [],
       "diffInserts": [],
       "displayType": "redashChart",
       "error": null,
       "errorDetails": null,
       "errorSummary": null,
       "errorTraceType": null,
       "finishTime": 0,
       "globalVars": {},
       "guid": "",
       "height": "auto",
       "hideCommandCode": false,
       "hideCommandResult": false,
       "iPythonMetadata": null,
       "inputWidgets": {},
       "isLockedInExamMode": false,
       "latestUser": "a user",
       "latestUserId": null,
       "listResultMetadata": null,
       "metadata": {},
       "nuid": "1ea58007-ac11-4d90-9ba7-4bf251c6c77d",
       "origId": 0,
       "parentHierarchy": [],
       "pivotAggregation": null,
       "pivotColumns": null,
       "position": 26.2177734375,
       "resultDbfsErrorMessage": null,
       "resultDbfsStatus": "INLINED_IN_TREE",
       "results": null,
       "showCommandTitle": false,
       "startTime": 0,
       "state": "input",
       "streamStates": {},
       "subcommandOptions": {
        "queryPlan": {
         "groups": [
          {
           "column": "mase_BIN",
           "type": "column"
          }
         ],
         "selects": [
          {
           "alias": "mase_BIN",
           "args": [
            {
             "column": "mase",
             "type": "column"
            },
            {
             "number": 100,
             "type": "number"
            }
           ],
           "function": "BIN",
           "type": "function"
          },
          {
           "alias": "mase_BIN_LOWER_BOUND",
           "args": [
            {
             "column": "mase",
             "type": "column"
            },
            {
             "number": 100,
             "type": "number"
            }
           ],
           "function": "BIN_LOWER_BOUND",
           "type": "function"
          },
          {
           "alias": "mase_BIN_STEP",
           "args": [
            {
             "column": "mase",
             "type": "column"
            },
            {
             "number": 100,
             "type": "number"
            }
           ],
           "function": "BIN_STEP",
           "type": "function"
          },
          {
           "alias": "COUNT",
           "args": [
            {
             "column": "mase",
             "type": "column"
            }
           ],
           "function": "COUNT",
           "type": "function"
          }
         ]
        }
       },
       "submitTime": 0,
       "subtype": "tableResultSubCmd.visualization",
       "tableResultIndex": 0,
       "tableResultSettingsMap": null,
       "useConsistentColors": false,
       "version": "CommandV1",
       "width": "auto",
       "workflows": [],
       "xColumns": null,
       "yColumns": null
      }
     },
     "output_type": "display_data"
    },
    {
     "output_type": "display_data",
     "data": {
      "text/plain": [
       "Databricks visualization. Run in Databricks to view."
      ]
     },
     "metadata": {
      "application/vnd.databricks.v1.subcommand+json": {
       "baseErrorDetails": null,
       "bindings": {},
       "collapsed": false,
       "command": "%sql WITH q AS (select *\nfrom dev.df_forecastu_chronos_small_metrics) ,min_max AS (SELECT `mase`,(SELECT MAX(`mase`) FROM q) `target_column_max`,(SELECT MIN(`mase`) FROM q) `target_column_min` FROM q) ,histogram_meta AS (SELECT `mase`,`target_column_min` `min_value`,IF(`target_column_max` = `target_column_min`,`target_column_max` + 1,`target_column_max`) `max_value`,(`target_column_max` - `target_column_min`) / 100 `step` FROM min_max) SELECT IF(ISNULL(`mase`),NULL,LEAST(WIDTH_BUCKET(`mase`,`min_value`,`max_value`,100),100)) `mase_BIN`,FIRST(`min_value` + ((IF(ISNULL(`mase`),NULL,LEAST(WIDTH_BUCKET(`mase`,`min_value`,`max_value`,100),100)) - 1) * `step`)) `mase_BIN_LOWER_BOUND`,FIRST(`step`) `mase_BIN_STEP`,COUNT(`mase`) `COUNT` FROM histogram_meta GROUP BY `mase_BIN`",
       "commandTitle": "Visualization 1",
       "commandType": "auto",
       "commandVersion": 0,
       "commentThread": [],
       "commentsVisible": false,
       "contentSha256Hex": null,
       "customPlotOptions": {
        "redashChart": [
         {
          "key": "type",
          "value": "CHART"
         },
         {
          "key": "options",
          "value": {
           "alignYAxesAtZero": true,
           "coefficient": 1,
           "columnConfigurationMap": {
            "x": {
             "column": "mase",
             "id": "column_2e816e986"
            }
           },
           "dateTimeFormat": "DD/MM/YYYY HH:mm",
           "direction": {
            "type": "counterclockwise"
           },
           "error_y": {
            "type": "data",
            "visible": true
           },
           "globalSeriesType": "histogram",
           "isAggregationOn": true,
           "legend": {
            "traceorder": "normal"
           },
           "missingValuesAsZero": true,
           "numBins": 100,
           "numberFormat": "0,0.[00000]",
           "percentFormat": "0[.]00%",
           "series": {
            "error_y": {
             "type": "data",
             "visible": true
            },
            "stacking": null
           },
           "seriesOptions": {},
           "showDataLabels": false,
           "sizemode": "diameter",
           "sortX": true,
           "sortY": true,
           "swappedAxes": false,
           "textFormat": "",
           "useAggregationsUi": true,
           "valuesOptions": {},
           "version": 2,
           "xAxis": {
            "labels": {
             "enabled": true
            },
            "type": "-"
           },
           "yAxis": [
            {
             "type": "-"
            },
            {
             "opposite": true,
             "type": "-"
            }
           ]
          }
         }
        ]
       },
       "datasetPreviewNameToCmdIdMap": {},
       "diffDeletes": [],
       "diffInserts": [],
       "displayType": "redashChart",
       "error": null,
       "errorDetails": null,
       "errorSummary": null,
       "errorTraceType": null,
       "finishTime": 0,
       "globalVars": {},
       "guid": "",
       "height": "auto",
       "hideCommandCode": false,
       "hideCommandResult": false,
       "iPythonMetadata": null,
       "inputWidgets": {},
       "isLockedInExamMode": false,
       "latestUser": "a user",
       "latestUserId": null,
       "listResultMetadata": null,
       "metadata": {},
       "nuid": "4e4d5a87-00c4-46e9-9779-dc8b364b7371",
       "origId": 0,
       "parentHierarchy": [],
       "pivotAggregation": null,
       "pivotColumns": null,
       "position": 27.2177734375,
       "resultDbfsErrorMessage": null,
       "resultDbfsStatus": "INLINED_IN_TREE",
       "results": null,
       "showCommandTitle": false,
       "startTime": 0,
       "state": "input",
       "streamStates": {},
       "subcommandOptions": {
        "queryPlan": {
         "groups": [
          {
           "column": "mase_BIN",
           "type": "column"
          }
         ],
         "selects": [
          {
           "alias": "mase_BIN",
           "args": [
            {
             "column": "mase",
             "type": "column"
            },
            {
             "number": 100,
             "type": "number"
            }
           ],
           "function": "BIN",
           "type": "function"
          },
          {
           "alias": "mase_BIN_LOWER_BOUND",
           "args": [
            {
             "column": "mase",
             "type": "column"
            },
            {
             "number": 100,
             "type": "number"
            }
           ],
           "function": "BIN_LOWER_BOUND",
           "type": "function"
          },
          {
           "alias": "mase_BIN_STEP",
           "args": [
            {
             "column": "mase",
             "type": "column"
            },
            {
             "number": 100,
             "type": "number"
            }
           ],
           "function": "BIN_STEP",
           "type": "function"
          },
          {
           "alias": "COUNT",
           "args": [
            {
             "column": "mase",
             "type": "column"
            }
           ],
           "function": "COUNT",
           "type": "function"
          }
         ]
        }
       },
       "submitTime": 0,
       "subtype": "tableResultSubCmd.visualization",
       "tableResultIndex": 0,
       "tableResultSettingsMap": null,
       "useConsistentColors": false,
       "version": "CommandV1",
       "width": "auto",
       "workflows": [],
       "xColumns": null,
       "yColumns": null
      }
     },
     "output_type": "display_data"
    }
   ],
   "source": [
    "%sql\n",
    "select *\n",
    "from dev.df_forecastu_chronos_small_metrics"
   ]
  },
  {
   "cell_type": "markdown",
   "metadata": {
    "application/vnd.databricks.v1+cell": {
     "cellMetadata": {},
     "inputWidgets": {},
     "nuid": "f3376bf7-e28f-4b61-8d63-9b8f9fad81a6",
     "showTitle": false,
     "title": ""
    }
   },
   "source": [
    "-  MASE mínimo de 0.5 aprox. significa que, al menos en algunas de las series, el modelo tiene la mitad del error del modelo ingenuo (Nive model), lo que sugiere un rendimiento bastante bueno para esas series\n",
    "- MASE de 0.8, significa que el modelo generalmente está haciendo un trabajo mejor que el modelo ingenuo (ya que es menor a 1), pero el margen de mejora es pequeño. El modelo es solo un 20% menor que ele error del modelo ingenuo, captura patrones pero no de manera muy eficiente.\n",
    "- MASE mayor a 1, infica que está comentiendo mas errores que el modelo ingenuo, no esta2 captruando bien las tendencias y patrones."
   ]
  },
  {
   "cell_type": "markdown",
   "metadata": {
    "application/vnd.databricks.v1+cell": {
     "cellMetadata": {},
     "inputWidgets": {},
     "nuid": "8ffc94dd-0623-40b7-9359-259f73b88362",
     "showTitle": false,
     "title": ""
    }
   },
   "source": [
    "Según el paper [TImeGPT-1](https://arxiv.org/html/2310.03589v2#:~:text=In%20summary%2C%20we%20observed%20that,significantly%20drops%20in%20inference%20speed.), se observa que TimeGPT supera de manera consistente a los modelos básicos recientes con un tiempo de inferencia comparable. A continuación, TimesFM ocupa el segundo lugar en términos de precisión con un tiempo de inferencia similar al de TimeGPT. Amazon Chronos ocupa el tercer lugar en precisión, pero cae significativamente en velocidad de inferencia. Por último, si bien Moirari y LagLlama son más eficientes en velocidad de inferencia que Chronos, ocupan un lugar más bajo en precisión por un amplio margen que todos los demás modelos."
   ]
  },
  {
   "cell_type": "markdown",
   "metadata": {
    "application/vnd.databricks.v1+cell": {
     "cellMetadata": {
      "byteLimit": 2048000,
      "rowLimit": 10000
     },
     "inputWidgets": {},
     "nuid": "37e02178-14f9-4755-bee8-713a137d5f28",
     "showTitle": false,
     "title": ""
    }
   },
   "source": [
    "Recursos:\n",
    "- https://github.com/amazon-science/chronos-forecasting/tree/main?tab=readme-ov-file\n",
    "- https://arxiv.org/html/2310.03589v2#:~:text=In%20summary%2C%20we%20observed%20that,significantly%20drops%20in%20inference%20speed."
   ]
  }
 ],
 "metadata": {
  "application/vnd.databricks.v1+notebook": {
   "dashboards": [],
   "environmentMetadata": null,
   "language": "python",
   "notebookMetadata": {
    "mostRecentlyExecutedCommandWithImplicitDF": {
     "commandId": 2864106661504451,
     "dataframes": [
      "_sqldf"
     ]
    },
    "pythonIndentUnit": 4
   },
   "notebookName": "Chronos",
   "widgets": {}
  },
  "kernelspec": {
   "display_name": ".venv",
   "language": "python",
   "name": "python3"
  },
  "language_info": {
   "codemirror_mode": {
    "name": "ipython",
    "version": 3
   },
   "file_extension": ".py",
   "mimetype": "text/x-python",
   "name": "python",
   "nbconvert_exporter": "python",
   "pygments_lexer": "ipython3",
   "version": "3.10.13"
  }
 },
 "nbformat": 4,
 "nbformat_minor": 0
}
